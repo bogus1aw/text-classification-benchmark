{
  "nbformat": 4,
  "nbformat_minor": 0,
  "metadata": {
    "colab": {
      "name": "M_FastTextTests_PolEmo2.0_lemmas_with_pretrained_word_emmbedings.ipynb",
      "provenance": [],
      "collapsed_sections": [],
      "include_colab_link": true
    },
    "kernelspec": {
      "display_name": "Python 3",
      "language": "python",
      "name": "python3"
    },
    "language_info": {
      "codemirror_mode": {
        "name": "ipython",
        "version": 3
      },
      "file_extension": ".py",
      "mimetype": "text/x-python",
      "name": "python",
      "nbconvert_exporter": "python",
      "pygments_lexer": "ipython3",
      "version": "3.8.5"
    }
  },
  "cells": [
    {
      "cell_type": "markdown",
      "metadata": {
        "id": "view-in-github",
        "colab_type": "text"
      },
      "source": [
        "<a href=\"https://colab.research.google.com/github/bogus1aw/text-classification-benchmark/blob/main/M_FastTextTests_PolEmo2_0_lemmas_with_pretrained_word_emmbedings.ipynb\" target=\"_parent\"><img src=\"https://colab.research.google.com/assets/colab-badge.svg\" alt=\"Open In Colab\"/></a>"
      ]
    },
    {
      "cell_type": "markdown",
      "metadata": {
        "id": "gmzZtBMi31V8"
      },
      "source": [
        "FastText benchmark for PolEmo 2.0 dataset https://clarin-pl.eu/dspace/handle/11321/710\r\n"
      ]
    },
    {
      "cell_type": "code",
      "metadata": {
        "colab": {
          "base_uri": "https://localhost:8080/"
        },
        "id": "6MZMWjIt5gTl",
        "outputId": "35db712b-e574-48df-ef15-05f5d2b9b4dc"
      },
      "source": [
        " from google.colab import drive\n",
        "drive.mount('/content/drive')"
      ],
      "execution_count": null,
      "outputs": [
        {
          "output_type": "stream",
          "text": [
            "Mounted at /content/drive\n"
          ],
          "name": "stdout"
        }
      ]
    },
    {
      "cell_type": "code",
      "metadata": {
        "colab": {
          "base_uri": "https://localhost:8080/"
        },
        "id": "R8xW4DmI5UaM",
        "outputId": "c246ea58-35d3-4305-dba0-4573a9f581ee"
      },
      "source": [
        "# install fastText\r\n",
        "!git clone https://github.com/facebookresearch/fastText.git\r\n",
        "%cd fastText\r\n",
        "!sudo pip install ."
      ],
      "execution_count": null,
      "outputs": [
        {
          "output_type": "stream",
          "text": [
            "Cloning into 'fastText'...\n",
            "remote: Enumerating objects: 3854, done.\u001b[K\n",
            "remote: Total 3854 (delta 0), reused 0 (delta 0), pack-reused 3854\u001b[K\n",
            "Receiving objects: 100% (3854/3854), 8.23 MiB | 28.75 MiB/s, done.\n",
            "Resolving deltas: 100% (2416/2416), done.\n",
            "/content/fastText\n",
            "Processing /content/fastText\n",
            "Requirement already satisfied: pybind11>=2.2 in /usr/local/lib/python3.6/dist-packages (from fasttext==0.9.2) (2.6.2)\n",
            "Requirement already satisfied: setuptools>=0.7.0 in /usr/local/lib/python3.6/dist-packages (from fasttext==0.9.2) (53.0.0)\n",
            "Requirement already satisfied: numpy in /usr/local/lib/python3.6/dist-packages (from fasttext==0.9.2) (1.19.5)\n",
            "Building wheels for collected packages: fasttext\n",
            "  Building wheel for fasttext (setup.py) ... \u001b[?25l\u001b[?25hdone\n",
            "  Created wheel for fasttext: filename=fasttext-0.9.2-cp36-cp36m-linux_x86_64.whl size=3082241 sha256=4b988c499cd63a9ea5acd1ea22826c8816e720ff1ea707bb88c46f54266bc65d\n",
            "  Stored in directory: /tmp/pip-ephem-wheel-cache-qayttdvz/wheels/a1/9f/52/696ce6c5c46325e840c76614ee5051458c0df10306987e7443\n",
            "Successfully built fasttext\n",
            "Installing collected packages: fasttext\n",
            "Successfully installed fasttext-0.9.2\n"
          ],
          "name": "stdout"
        }
      ]
    },
    {
      "cell_type": "code",
      "metadata": {
        "id": "fG5L1DIu4DM8"
      },
      "source": [
        "import fasttext as ft\r\n",
        "import pandas as pd\r\n",
        "import datetime\r\n",
        "from sklearn import model_selection\r\n",
        "import csv\r\n",
        "pd.set_option('display.max_columns', None)\r\n",
        "pd.set_option('display.max_rows', None)\r\n",
        "timestamp = datetime.datetime.now().replace(microsecond=0).isoformat().replace(':', '-')\r\n"
      ],
      "execution_count": null,
      "outputs": []
    },
    {
      "cell_type": "code",
      "metadata": {
        "colab": {
          "base_uri": "https://localhost:8080/"
        },
        "id": "BjmmePKE8AAW",
        "outputId": "9bdbb335-5aa8-41e0-a1ca-114150563a4b"
      },
      "source": [
        "!pwd"
      ],
      "execution_count": null,
      "outputs": [
        {
          "output_type": "stream",
          "text": [
            "/content/fastText\n"
          ],
          "name": "stdout"
        }
      ]
    },
    {
      "cell_type": "code",
      "metadata": {
        "id": "xWAVBgSvZMJu"
      },
      "source": [
        "#create work dir\r\n",
        "WORK_PATH = '/content/data/'\r\n",
        "%mkdir -p '/content/data/'"
      ],
      "execution_count": null,
      "outputs": []
    },
    {
      "cell_type": "code",
      "metadata": {
        "id": "5O2ia0Dk-njO"
      },
      "source": [
        "# PATH DEFINITION FOR CORPORA\r\n",
        "TEST_FASTTEXT_FILE_PATH = WORK_PATH + 'TEST_FASTEXT_WORK.csv'\r\n",
        "TRAIN_FASTTEXT_FILE_PATH = WORK_PATH + 'TRAIN_FASTEXT_WORK.csv'"
      ],
      "execution_count": null,
      "outputs": []
    },
    {
      "cell_type": "code",
      "metadata": {
        "id": "MsiKx1tP-Y-v"
      },
      "source": [
        "def load_corpora_to_dataframe(corpora):\r\n",
        "  data = open(corpora).read()\r\n",
        "  labels, texts = [], []\r\n",
        "  for i, line in enumerate(data.split(\"\\n\")):\r\n",
        "      content = line.split()\r\n",
        "      if len(content) > 0: \r\n",
        "        labels.append(content[-1])\r\n",
        "        texts.append(\" \".join(content[:-1]))\r\n",
        "\r\n",
        "  # create a dataframe using texts and lables\r\n",
        "  trainDF = pd.DataFrame()\r\n",
        "  trainDF['text'] = texts\r\n",
        "  trainDF['label'] = labels\r\n",
        "  return trainDF"
      ],
      "execution_count": null,
      "outputs": []
    },
    {
      "cell_type": "code",
      "metadata": {
        "id": "ln-wr0oJWCV_"
      },
      "source": [
        "def process_benchmark(domain, train, test, wordNgrams):\n",
        "  # save text file which will be used for all tests\n",
        "  test.to_csv(TEST_FASTTEXT_FILE_PATH, header=False, index=False, encoding='utf-8', sep='\\t', quoting=csv.QUOTE_NONE)\n",
        "\n",
        "  full = []\n",
        "  for repeat in range(repetitions):\n",
        "      iteration = []\n",
        "      for n_samples in no_samples_per_class:\n",
        "          train_work = train.groupby(['label']).sample(n=n_samples, replace=True)\n",
        "          train_work = train_work.sample(frac=1)\n",
        "          train_work.to_csv(TRAIN_FASTTEXT_FILE_PATH, header=False, index=False, encoding='utf-8', sep='\\t', quoting=csv.QUOTE_NONE)\n",
        "          # model = ft.train_supervised(input=TRAIN_FASTTEXT_FILE_PATH, lr=1.0, epoch=25, wordNgrams=wordNgrams)\n",
        "          model = ft.train_supervised(input=TRAIN_FASTTEXT_FILE_PATH, dim=300, lr=1.0, epoch=25, pretrainedVectors='/content/drive/MyDrive/models/cc.pl.300.vec', wordNgrams=wordNgrams)\n",
        "          result = model.test(TEST_FASTTEXT_FILE_PATH)\n",
        "          print('domain: ', domain, \" repeat: \", repeat,\" sample: \", n_samples,' wordNgrams: ', wordNgrams, ' results: ', result)\n",
        "          iteration.append(result[1])\n",
        "      print(iteration)\n",
        "      full.append(iteration)\n",
        "  \n",
        "  return full\n"
      ],
      "execution_count": null,
      "outputs": []
    },
    {
      "cell_type": "code",
      "metadata": {
        "id": "e49jSUyQ-bQt"
      },
      "source": [
        "no_samples_per_class = [1, 3, 5, 8, 10, 20, 30, 60, 100, 200] ###### FINALL SAMPLES LIST  \n",
        "\n",
        "repetitions = 2\n",
        "# grams = [1, 2]\n",
        "grams = [1]\n",
        "\n",
        "metrice_path = '/content/drive/MyDrive/metrics/FastText_2.0_PolEmo2_raw' + timestamp + '.txt'\n",
        "fig_path = '/content/drive/MyDrive/figures/'\n",
        "dataset_path = '/content/drive/MyDrive/master_datasets/dataset_col_lemmas_final/'\n",
        "\n",
        "domains = [\n",
        "           ('all', 'MDT-A'),\n",
        "           ('hotels', 'SDT-H'),\n",
        "           ('medicine', 'SDT-M'),\n",
        "           ('products', 'SDT-P'),\n",
        "           ('reviews', 'SDT-R')\n",
        "          ]\n"
      ],
      "execution_count": null,
      "outputs": []
    },
    {
      "cell_type": "code",
      "metadata": {
        "id": "lNoEXQGnNQMx"
      },
      "source": [
        "def write_to_logs(values):\r\n",
        "  with open(metrice_path, 'a') as f:\r\n",
        "    f.write(values)"
      ],
      "execution_count": null,
      "outputs": []
    },
    {
      "cell_type": "code",
      "metadata": {
        "colab": {
          "background_save": true,
          "base_uri": "https://localhost:8080/"
        },
        "id": "LS40CX16eIDs",
        "outputId": "8a62e959-b93c-4f94-eb93-536382db6237"
      },
      "source": [
        "df = pd.DataFrame()\r\n",
        "   \r\n",
        "for domian, ix_name in domains:\r\n",
        "  for ngram in grams :\r\n",
        "    print('%%%%%%%%%%%%%%%%%%%%%%%%%%%%%%%%%%%')\r\n",
        "    print('%%%%%%%%  ', domian,  ' ', ngram)\r\n",
        "    print('%%%%%%%%%%%%%%%%%%%%%%%%%%%%%%%%%%%')\r\n",
        "    \r\n",
        "    CORPORA_TRAIN = dataset_path + domian + '.text.train.txt'\r\n",
        "    CORPORA_TEST = dataset_path + domian + '.text.test.txt'\r\n",
        "    train = load_corpora_to_dataframe(CORPORA_TRAIN)\r\n",
        "    test = load_corpora_to_dataframe(CORPORA_TEST)\r\n",
        "\r\n",
        "    results = process_benchmark(ix_name, train, test, ngram)\r\n",
        "\r\n",
        "    df = df.append(pd.DataFrame(pd.DataFrame(results, columns=no_samples_per_class).mean(), columns=[ix_name + '_R_' + str(ngram)]).T)\r\n",
        "\r\n",
        "df\r\n",
        "### LEMMAS"
      ],
      "execution_count": null,
      "outputs": [
        {
          "output_type": "stream",
          "text": [
            "%%%%%%%%%%%%%%%%%%%%%%%%%%%%%%%%%%%\n",
            "%%%%%%%%   all   1\n",
            "%%%%%%%%%%%%%%%%%%%%%%%%%%%%%%%%%%%\n",
            "domain:  MDT-A  repeat:  0  sample:  1  wordNgrams:  1  results:  (820, 0.4097560975609756, 0.4097560975609756)\n",
            "domain:  MDT-A  repeat:  0  sample:  3  wordNgrams:  1  results:  (820, 0.4219512195121951, 0.4219512195121951)\n",
            "domain:  MDT-A  repeat:  0  sample:  5  wordNgrams:  1  results:  (820, 0.5024390243902439, 0.5024390243902439)\n",
            "domain:  MDT-A  repeat:  0  sample:  8  wordNgrams:  1  results:  (820, 0.5609756097560976, 0.5609756097560976)\n",
            "domain:  MDT-A  repeat:  0  sample:  10  wordNgrams:  1  results:  (820, 0.4926829268292683, 0.4926829268292683)\n",
            "domain:  MDT-A  repeat:  0  sample:  20  wordNgrams:  1  results:  (820, 0.5609756097560976, 0.5609756097560976)\n",
            "domain:  MDT-A  repeat:  0  sample:  30  wordNgrams:  1  results:  (820, 0.6268292682926829, 0.6268292682926829)\n",
            "domain:  MDT-A  repeat:  0  sample:  60  wordNgrams:  1  results:  (820, 0.6439024390243903, 0.6439024390243903)\n",
            "domain:  MDT-A  repeat:  0  sample:  100  wordNgrams:  1  results:  (820, 0.6634146341463415, 0.6634146341463415)\n",
            "domain:  MDT-A  repeat:  0  sample:  200  wordNgrams:  1  results:  (820, 0.6902439024390243, 0.6902439024390243)\n",
            "[0.4097560975609756, 0.4219512195121951, 0.5024390243902439, 0.5609756097560976, 0.4926829268292683, 0.5609756097560976, 0.6268292682926829, 0.6439024390243903, 0.6634146341463415, 0.6902439024390243]\n",
            "domain:  MDT-A  repeat:  1  sample:  1  wordNgrams:  1  results:  (820, 0.25121951219512195, 0.25121951219512195)\n",
            "domain:  MDT-A  repeat:  1  sample:  3  wordNgrams:  1  results:  (820, 0.4024390243902439, 0.4024390243902439)\n",
            "domain:  MDT-A  repeat:  1  sample:  5  wordNgrams:  1  results:  (820, 0.4841463414634146, 0.4841463414634146)\n",
            "domain:  MDT-A  repeat:  1  sample:  8  wordNgrams:  1  results:  (820, 0.5158536585365854, 0.5158536585365854)\n",
            "domain:  MDT-A  repeat:  1  sample:  10  wordNgrams:  1  results:  (820, 0.5341463414634147, 0.5341463414634147)\n",
            "domain:  MDT-A  repeat:  1  sample:  20  wordNgrams:  1  results:  (820, 0.5378048780487805, 0.5378048780487805)\n",
            "domain:  MDT-A  repeat:  1  sample:  30  wordNgrams:  1  results:  (820, 0.6158536585365854, 0.6158536585365854)\n",
            "domain:  MDT-A  repeat:  1  sample:  60  wordNgrams:  1  results:  (820, 0.6073170731707317, 0.6073170731707317)\n",
            "domain:  MDT-A  repeat:  1  sample:  100  wordNgrams:  1  results:  (820, 0.6573170731707317, 0.6573170731707317)\n",
            "domain:  MDT-A  repeat:  1  sample:  200  wordNgrams:  1  results:  (820, 0.7109756097560975, 0.7109756097560975)\n",
            "[0.25121951219512195, 0.4024390243902439, 0.4841463414634146, 0.5158536585365854, 0.5341463414634147, 0.5378048780487805, 0.6158536585365854, 0.6073170731707317, 0.6573170731707317, 0.7109756097560975]\n",
            "%%%%%%%%%%%%%%%%%%%%%%%%%%%%%%%%%%%\n",
            "%%%%%%%%   hotels   1\n",
            "%%%%%%%%%%%%%%%%%%%%%%%%%%%%%%%%%%%\n",
            "domain:  SDT-H  repeat:  0  sample:  1  wordNgrams:  1  results:  (395, 0.42278481012658226, 0.42278481012658226)\n",
            "domain:  SDT-H  repeat:  0  sample:  3  wordNgrams:  1  results:  (395, 0.5164556962025316, 0.5164556962025316)\n",
            "domain:  SDT-H  repeat:  0  sample:  5  wordNgrams:  1  results:  (395, 0.4607594936708861, 0.4607594936708861)\n",
            "domain:  SDT-H  repeat:  0  sample:  8  wordNgrams:  1  results:  (395, 0.46582278481012657, 0.46582278481012657)\n",
            "domain:  SDT-H  repeat:  0  sample:  10  wordNgrams:  1  results:  (395, 0.5873417721518988, 0.5873417721518988)\n",
            "domain:  SDT-H  repeat:  0  sample:  20  wordNgrams:  1  results:  (395, 0.6, 0.6)\n",
            "domain:  SDT-H  repeat:  0  sample:  30  wordNgrams:  1  results:  (395, 0.6430379746835443, 0.6430379746835443)\n",
            "domain:  SDT-H  repeat:  0  sample:  60  wordNgrams:  1  results:  (395, 0.6886075949367089, 0.6886075949367089)\n",
            "domain:  SDT-H  repeat:  0  sample:  100  wordNgrams:  1  results:  (395, 0.7215189873417721, 0.7215189873417721)\n",
            "domain:  SDT-H  repeat:  0  sample:  200  wordNgrams:  1  results:  (395, 0.7240506329113924, 0.7240506329113924)\n",
            "[0.42278481012658226, 0.5164556962025316, 0.4607594936708861, 0.46582278481012657, 0.5873417721518988, 0.6, 0.6430379746835443, 0.6886075949367089, 0.7215189873417721, 0.7240506329113924]\n",
            "domain:  SDT-H  repeat:  1  sample:  1  wordNgrams:  1  results:  (395, 0.3670886075949367, 0.3670886075949367)\n",
            "domain:  SDT-H  repeat:  1  sample:  3  wordNgrams:  1  results:  (395, 0.46582278481012657, 0.46582278481012657)\n",
            "domain:  SDT-H  repeat:  1  sample:  5  wordNgrams:  1  results:  (395, 0.4860759493670886, 0.4860759493670886)\n",
            "domain:  SDT-H  repeat:  1  sample:  8  wordNgrams:  1  results:  (395, 0.5063291139240507, 0.5063291139240507)\n",
            "domain:  SDT-H  repeat:  1  sample:  10  wordNgrams:  1  results:  (395, 0.569620253164557, 0.569620253164557)\n",
            "domain:  SDT-H  repeat:  1  sample:  20  wordNgrams:  1  results:  (395, 0.5974683544303797, 0.5974683544303797)\n",
            "domain:  SDT-H  repeat:  1  sample:  30  wordNgrams:  1  results:  (395, 0.6329113924050633, 0.6329113924050633)\n",
            "domain:  SDT-H  repeat:  1  sample:  60  wordNgrams:  1  results:  (395, 0.6632911392405063, 0.6632911392405063)\n",
            "domain:  SDT-H  repeat:  1  sample:  100  wordNgrams:  1  results:  (395, 0.7316455696202532, 0.7316455696202532)\n",
            "domain:  SDT-H  repeat:  1  sample:  200  wordNgrams:  1  results:  (395, 0.7367088607594937, 0.7367088607594937)\n",
            "[0.3670886075949367, 0.46582278481012657, 0.4860759493670886, 0.5063291139240507, 0.569620253164557, 0.5974683544303797, 0.6329113924050633, 0.6632911392405063, 0.7316455696202532, 0.7367088607594937]\n",
            "%%%%%%%%%%%%%%%%%%%%%%%%%%%%%%%%%%%\n",
            "%%%%%%%%   medicine   1\n",
            "%%%%%%%%%%%%%%%%%%%%%%%%%%%%%%%%%%%\n",
            "domain:  SDT-M  repeat:  0  sample:  1  wordNgrams:  1  results:  (327, 0.308868501529052, 0.308868501529052)\n",
            "domain:  SDT-M  repeat:  0  sample:  3  wordNgrams:  1  results:  (327, 0.4525993883792049, 0.4525993883792049)\n",
            "domain:  SDT-M  repeat:  0  sample:  5  wordNgrams:  1  results:  (327, 0.5351681957186545, 0.5351681957186545)\n",
            "domain:  SDT-M  repeat:  0  sample:  8  wordNgrams:  1  results:  (327, 0.6116207951070336, 0.6116207951070336)\n",
            "domain:  SDT-M  repeat:  0  sample:  10  wordNgrams:  1  results:  (327, 0.5076452599388379, 0.5076452599388379)\n",
            "domain:  SDT-M  repeat:  0  sample:  20  wordNgrams:  1  results:  (327, 0.5749235474006116, 0.5749235474006116)\n",
            "domain:  SDT-M  repeat:  0  sample:  30  wordNgrams:  1  results:  (327, 0.6330275229357798, 0.6330275229357798)\n",
            "domain:  SDT-M  repeat:  0  sample:  60  wordNgrams:  1  results:  (327, 0.6819571865443425, 0.6819571865443425)\n",
            "domain:  SDT-M  repeat:  0  sample:  100  wordNgrams:  1  results:  (327, 0.6788990825688074, 0.6788990825688074)\n",
            "domain:  SDT-M  repeat:  0  sample:  200  wordNgrams:  1  results:  (327, 0.72782874617737, 0.72782874617737)\n",
            "[0.308868501529052, 0.4525993883792049, 0.5351681957186545, 0.6116207951070336, 0.5076452599388379, 0.5749235474006116, 0.6330275229357798, 0.6819571865443425, 0.6788990825688074, 0.72782874617737]\n",
            "domain:  SDT-M  repeat:  1  sample:  1  wordNgrams:  1  results:  (327, 0.3516819571865443, 0.3516819571865443)\n",
            "domain:  SDT-M  repeat:  1  sample:  3  wordNgrams:  1  results:  (327, 0.44648318042813456, 0.44648318042813456)\n",
            "domain:  SDT-M  repeat:  1  sample:  5  wordNgrams:  1  results:  (327, 0.599388379204893, 0.599388379204893)\n",
            "domain:  SDT-M  repeat:  1  sample:  8  wordNgrams:  1  results:  (327, 0.5565749235474006, 0.5565749235474006)\n",
            "domain:  SDT-M  repeat:  1  sample:  10  wordNgrams:  1  results:  (327, 0.4954128440366973, 0.4954128440366973)\n",
            "domain:  SDT-M  repeat:  1  sample:  20  wordNgrams:  1  results:  (327, 0.5840978593272171, 0.5840978593272171)\n",
            "domain:  SDT-M  repeat:  1  sample:  30  wordNgrams:  1  results:  (327, 0.599388379204893, 0.599388379204893)\n",
            "domain:  SDT-M  repeat:  1  sample:  60  wordNgrams:  1  results:  (327, 0.6880733944954128, 0.6880733944954128)\n",
            "domain:  SDT-M  repeat:  1  sample:  100  wordNgrams:  1  results:  (327, 0.672782874617737, 0.672782874617737)\n",
            "domain:  SDT-M  repeat:  1  sample:  200  wordNgrams:  1  results:  (327, 0.7247706422018348, 0.7247706422018348)\n",
            "[0.3516819571865443, 0.44648318042813456, 0.599388379204893, 0.5565749235474006, 0.4954128440366973, 0.5840978593272171, 0.599388379204893, 0.6880733944954128, 0.672782874617737, 0.7247706422018348]\n",
            "%%%%%%%%%%%%%%%%%%%%%%%%%%%%%%%%%%%\n",
            "%%%%%%%%   products   1\n",
            "%%%%%%%%%%%%%%%%%%%%%%%%%%%%%%%%%%%\n",
            "domain:  SDT-P  repeat:  0  sample:  1  wordNgrams:  1  results:  (47, 0.1702127659574468, 0.1702127659574468)\n",
            "domain:  SDT-P  repeat:  0  sample:  3  wordNgrams:  1  results:  (47, 0.7021276595744681, 0.7021276595744681)\n",
            "domain:  SDT-P  repeat:  0  sample:  5  wordNgrams:  1  results:  (47, 0.1702127659574468, 0.1702127659574468)\n",
            "domain:  SDT-P  repeat:  0  sample:  8  wordNgrams:  1  results:  (47, 0.5106382978723404, 0.5106382978723404)\n",
            "domain:  SDT-P  repeat:  0  sample:  10  wordNgrams:  1  results:  (47, 0.3829787234042553, 0.3829787234042553)\n",
            "domain:  SDT-P  repeat:  0  sample:  20  wordNgrams:  1  results:  (47, 0.5531914893617021, 0.5531914893617021)\n",
            "domain:  SDT-P  repeat:  0  sample:  30  wordNgrams:  1  results:  (47, 0.5531914893617021, 0.5531914893617021)\n",
            "domain:  SDT-P  repeat:  0  sample:  60  wordNgrams:  1  results:  (47, 0.6170212765957447, 0.6170212765957447)\n",
            "domain:  SDT-P  repeat:  0  sample:  100  wordNgrams:  1  results:  (47, 0.6382978723404256, 0.6382978723404256)\n",
            "domain:  SDT-P  repeat:  0  sample:  200  wordNgrams:  1  results:  (47, 0.6170212765957447, 0.6170212765957447)\n",
            "[0.1702127659574468, 0.7021276595744681, 0.1702127659574468, 0.5106382978723404, 0.3829787234042553, 0.5531914893617021, 0.5531914893617021, 0.6170212765957447, 0.6382978723404256, 0.6170212765957447]\n",
            "domain:  SDT-P  repeat:  1  sample:  1  wordNgrams:  1  results:  (47, 0.48936170212765956, 0.48936170212765956)\n",
            "domain:  SDT-P  repeat:  1  sample:  3  wordNgrams:  1  results:  (47, 0.3829787234042553, 0.3829787234042553)\n",
            "domain:  SDT-P  repeat:  1  sample:  5  wordNgrams:  1  results:  (47, 0.46808510638297873, 0.46808510638297873)\n",
            "domain:  SDT-P  repeat:  1  sample:  8  wordNgrams:  1  results:  (47, 0.5106382978723404, 0.5106382978723404)\n",
            "domain:  SDT-P  repeat:  1  sample:  10  wordNgrams:  1  results:  (47, 0.6595744680851063, 0.6595744680851063)\n",
            "domain:  SDT-P  repeat:  1  sample:  20  wordNgrams:  1  results:  (47, 0.46808510638297873, 0.46808510638297873)\n",
            "domain:  SDT-P  repeat:  1  sample:  30  wordNgrams:  1  results:  (47, 0.5531914893617021, 0.5531914893617021)\n",
            "domain:  SDT-P  repeat:  1  sample:  60  wordNgrams:  1  results:  (47, 0.5106382978723404, 0.5106382978723404)\n",
            "domain:  SDT-P  repeat:  1  sample:  100  wordNgrams:  1  results:  (47, 0.6170212765957447, 0.6170212765957447)\n",
            "domain:  SDT-P  repeat:  1  sample:  200  wordNgrams:  1  results:  (47, 0.6170212765957447, 0.6170212765957447)\n",
            "[0.48936170212765956, 0.3829787234042553, 0.46808510638297873, 0.5106382978723404, 0.6595744680851063, 0.46808510638297873, 0.5531914893617021, 0.5106382978723404, 0.6170212765957447, 0.6170212765957447]\n",
            "%%%%%%%%%%%%%%%%%%%%%%%%%%%%%%%%%%%\n",
            "%%%%%%%%   reviews   1\n",
            "%%%%%%%%%%%%%%%%%%%%%%%%%%%%%%%%%%%\n",
            "domain:  SDT-R  repeat:  0  sample:  1  wordNgrams:  1  results:  (50, 0.24, 0.24)\n",
            "domain:  SDT-R  repeat:  0  sample:  3  wordNgrams:  1  results:  (50, 0.32, 0.32)\n",
            "domain:  SDT-R  repeat:  0  sample:  5  wordNgrams:  1  results:  (50, 0.28, 0.28)\n",
            "domain:  SDT-R  repeat:  0  sample:  8  wordNgrams:  1  results:  (50, 0.48, 0.48)\n",
            "domain:  SDT-R  repeat:  0  sample:  10  wordNgrams:  1  results:  (50, 0.38, 0.38)\n",
            "domain:  SDT-R  repeat:  0  sample:  20  wordNgrams:  1  results:  (50, 0.58, 0.58)\n",
            "domain:  SDT-R  repeat:  0  sample:  30  wordNgrams:  1  results:  (50, 0.56, 0.56)\n",
            "domain:  SDT-R  repeat:  0  sample:  60  wordNgrams:  1  results:  (50, 0.62, 0.62)\n",
            "domain:  SDT-R  repeat:  0  sample:  100  wordNgrams:  1  results:  (50, 0.6, 0.6)\n",
            "domain:  SDT-R  repeat:  0  sample:  200  wordNgrams:  1  results:  (50, 0.62, 0.62)\n",
            "[0.24, 0.32, 0.28, 0.48, 0.38, 0.58, 0.56, 0.62, 0.6, 0.62]\n",
            "domain:  SDT-R  repeat:  1  sample:  1  wordNgrams:  1  results:  (50, 0.38, 0.38)\n",
            "domain:  SDT-R  repeat:  1  sample:  3  wordNgrams:  1  results:  (50, 0.44, 0.44)\n",
            "domain:  SDT-R  repeat:  1  sample:  5  wordNgrams:  1  results:  (50, 0.4, 0.4)\n",
            "domain:  SDT-R  repeat:  1  sample:  8  wordNgrams:  1  results:  (50, 0.6, 0.6)\n",
            "domain:  SDT-R  repeat:  1  sample:  10  wordNgrams:  1  results:  (50, 0.48, 0.48)\n",
            "domain:  SDT-R  repeat:  1  sample:  20  wordNgrams:  1  results:  (50, 0.48, 0.48)\n",
            "domain:  SDT-R  repeat:  1  sample:  30  wordNgrams:  1  results:  (50, 0.52, 0.52)\n",
            "domain:  SDT-R  repeat:  1  sample:  60  wordNgrams:  1  results:  (50, 0.56, 0.56)\n",
            "domain:  SDT-R  repeat:  1  sample:  100  wordNgrams:  1  results:  (50, 0.68, 0.68)\n",
            "domain:  SDT-R  repeat:  1  sample:  200  wordNgrams:  1  results:  (50, 0.66, 0.66)\n",
            "[0.38, 0.44, 0.4, 0.6, 0.48, 0.48, 0.52, 0.56, 0.68, 0.66]\n"
          ],
          "name": "stdout"
        },
        {
          "output_type": "execute_result",
          "data": {
            "text/html": [
              "<div>\n",
              "<style scoped>\n",
              "    .dataframe tbody tr th:only-of-type {\n",
              "        vertical-align: middle;\n",
              "    }\n",
              "\n",
              "    .dataframe tbody tr th {\n",
              "        vertical-align: top;\n",
              "    }\n",
              "\n",
              "    .dataframe thead th {\n",
              "        text-align: right;\n",
              "    }\n",
              "</style>\n",
              "<table border=\"1\" class=\"dataframe\">\n",
              "  <thead>\n",
              "    <tr style=\"text-align: right;\">\n",
              "      <th></th>\n",
              "      <th>1</th>\n",
              "      <th>3</th>\n",
              "      <th>5</th>\n",
              "      <th>8</th>\n",
              "      <th>10</th>\n",
              "      <th>20</th>\n",
              "      <th>30</th>\n",
              "      <th>60</th>\n",
              "      <th>100</th>\n",
              "      <th>200</th>\n",
              "    </tr>\n",
              "  </thead>\n",
              "  <tbody>\n",
              "    <tr>\n",
              "      <th>MDT-A_R_1</th>\n",
              "      <td>0.330488</td>\n",
              "      <td>0.412195</td>\n",
              "      <td>0.493293</td>\n",
              "      <td>0.538415</td>\n",
              "      <td>0.513415</td>\n",
              "      <td>0.549390</td>\n",
              "      <td>0.621341</td>\n",
              "      <td>0.625610</td>\n",
              "      <td>0.660366</td>\n",
              "      <td>0.700610</td>\n",
              "    </tr>\n",
              "    <tr>\n",
              "      <th>SDT-H_R_1</th>\n",
              "      <td>0.394937</td>\n",
              "      <td>0.491139</td>\n",
              "      <td>0.473418</td>\n",
              "      <td>0.486076</td>\n",
              "      <td>0.578481</td>\n",
              "      <td>0.598734</td>\n",
              "      <td>0.637975</td>\n",
              "      <td>0.675949</td>\n",
              "      <td>0.726582</td>\n",
              "      <td>0.730380</td>\n",
              "    </tr>\n",
              "    <tr>\n",
              "      <th>SDT-M_R_1</th>\n",
              "      <td>0.330275</td>\n",
              "      <td>0.449541</td>\n",
              "      <td>0.567278</td>\n",
              "      <td>0.584098</td>\n",
              "      <td>0.501529</td>\n",
              "      <td>0.579511</td>\n",
              "      <td>0.616208</td>\n",
              "      <td>0.685015</td>\n",
              "      <td>0.675841</td>\n",
              "      <td>0.726300</td>\n",
              "    </tr>\n",
              "    <tr>\n",
              "      <th>SDT-P_R_1</th>\n",
              "      <td>0.329787</td>\n",
              "      <td>0.542553</td>\n",
              "      <td>0.319149</td>\n",
              "      <td>0.510638</td>\n",
              "      <td>0.521277</td>\n",
              "      <td>0.510638</td>\n",
              "      <td>0.553191</td>\n",
              "      <td>0.563830</td>\n",
              "      <td>0.627660</td>\n",
              "      <td>0.617021</td>\n",
              "    </tr>\n",
              "    <tr>\n",
              "      <th>SDT-R_R_1</th>\n",
              "      <td>0.310000</td>\n",
              "      <td>0.380000</td>\n",
              "      <td>0.340000</td>\n",
              "      <td>0.540000</td>\n",
              "      <td>0.430000</td>\n",
              "      <td>0.530000</td>\n",
              "      <td>0.540000</td>\n",
              "      <td>0.590000</td>\n",
              "      <td>0.640000</td>\n",
              "      <td>0.640000</td>\n",
              "    </tr>\n",
              "  </tbody>\n",
              "</table>\n",
              "</div>"
            ],
            "text/plain": [
              "                1         3         5         8         10        20   \\\n",
              "MDT-A_R_1  0.330488  0.412195  0.493293  0.538415  0.513415  0.549390   \n",
              "SDT-H_R_1  0.394937  0.491139  0.473418  0.486076  0.578481  0.598734   \n",
              "SDT-M_R_1  0.330275  0.449541  0.567278  0.584098  0.501529  0.579511   \n",
              "SDT-P_R_1  0.329787  0.542553  0.319149  0.510638  0.521277  0.510638   \n",
              "SDT-R_R_1  0.310000  0.380000  0.340000  0.540000  0.430000  0.530000   \n",
              "\n",
              "                30        60        100       200  \n",
              "MDT-A_R_1  0.621341  0.625610  0.660366  0.700610  \n",
              "SDT-H_R_1  0.637975  0.675949  0.726582  0.730380  \n",
              "SDT-M_R_1  0.616208  0.685015  0.675841  0.726300  \n",
              "SDT-P_R_1  0.553191  0.563830  0.627660  0.617021  \n",
              "SDT-R_R_1  0.540000  0.590000  0.640000  0.640000  "
            ]
          },
          "metadata": {
            "tags": []
          },
          "execution_count": 0
        }
      ]
    },
    {
      "cell_type": "code",
      "metadata": {
        "colab": {
          "background_save": true
        },
        "id": "TA-S6eirNPdS"
      },
      "source": [
        ""
      ],
      "execution_count": null,
      "outputs": []
    }
  ]
}