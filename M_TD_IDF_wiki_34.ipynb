{
  "nbformat": 4,
  "nbformat_minor": 0,
  "metadata": {
    "colab": {
      "name": "M_TD-IDF_wiki_34",
      "provenance": [],
      "collapsed_sections": [],
      "toc_visible": true,
      "mount_file_id": "1JsrFppp2MxDZ7S9Amug4mC2d9oh7w0Oe",
      "authorship_tag": "ABX9TyMEHgxbM4plZFOdGWhcr5vJ",
      "include_colab_link": true
    },
    "kernelspec": {
      "name": "python3",
      "display_name": "Python 3"
    }
  },
  "cells": [
    {
      "cell_type": "markdown",
      "metadata": {
        "id": "view-in-github",
        "colab_type": "text"
      },
      "source": [
        "<a href=\"https://colab.research.google.com/github/bogus1aw/text-classification-benchmark/blob/main/M_TD_IDF_wiki_34.ipynb\" target=\"_parent\"><img src=\"https://colab.research.google.com/assets/colab-badge.svg\" alt=\"Open In Colab\"/></a>"
      ]
    },
    {
      "cell_type": "markdown",
      "metadata": {
        "id": "r3PAWlQbvxud"
      },
      "source": [
        "# TF-IDF benchmark for wiki dataset https://clarin-pl.eu/dspace/handle/11321/738\r\n",
        "\r\n",
        "gdrive mounted manually form GUI"
      ]
    },
    {
      "cell_type": "code",
      "metadata": {
        "id": "Ds8qiFIctn1R"
      },
      "source": [
        "from sklearn import model_selection, preprocessing, linear_model, naive_bayes, metrics, svm\r\n",
        "from sklearn.feature_extraction.text import TfidfVectorizer, CountVectorizer\r\n",
        "from sklearn import decomposition, ensemble\r\n",
        "\r\n",
        "import pandas, xgboost, numpy, textblob, string\r\n",
        "from keras.preprocessing import text, sequence\r\n",
        "from keras import layers, models, optimizers\r\n",
        "\r\n",
        "import matplotlib.pyplot as plt\r\n",
        "\r\n",
        "import datetime\r\n",
        "import time\r\n",
        "\r\n",
        "timestamp = datetime.datetime.now().replace(microsecond=0).isoformat().replace(':', '-')\r\n"
      ],
      "execution_count": 1,
      "outputs": []
    },
    {
      "cell_type": "markdown",
      "metadata": {
        "id": "e1Advfk4w3Y8"
      },
      "source": [
        "# 1. Function definitions"
      ]
    },
    {
      "cell_type": "code",
      "metadata": {
        "id": "H1FSc9zBweR1"
      },
      "source": [
        "def load_corpora_to_dataframe(corpora):\r\n",
        "  data = open(corpora).read()\r\n",
        "  labels, texts = [], []\r\n",
        "  for i, line in enumerate(data.split(\"\\n\")):\r\n",
        "      content = line.split()\r\n",
        "      labels.append(content[0])\r\n",
        "      texts.append(\" \".join(content[1:]))\r\n",
        "\r\n",
        "  # create a dataframe using texts and lables\r\n",
        "  trainDF = pandas.DataFrame()\r\n",
        "  trainDF['text'] = texts\r\n",
        "  trainDF['label'] = labels\r\n",
        "  return trainDF"
      ],
      "execution_count": 2,
      "outputs": []
    },
    {
      "cell_type": "code",
      "metadata": {
        "id": "G8KlahQByMYt"
      },
      "source": [
        "def calculate_feature_vectors_tfifd(max_features):\r\n",
        "  # word level tf-idf\r\n",
        "  tfidf_vect = TfidfVectorizer(analyzer='word', token_pattern=r'(?u)\\b\\w+\\b', max_features=max_features)\r\n",
        "  tfidf_vect.fit(trainDF['text']) \r\n",
        "  xtrain_tfidf =  tfidf_vect.transform(train_x)\r\n",
        "  xvalid_tfidf =  tfidf_vect.transform(valid_x)\r\n",
        "  # ngram level tf-idf \r\n",
        "  tfidf_vect_ngram = TfidfVectorizer(analyzer='word', token_pattern=r'(?u)\\b\\w+\\b', ngram_range=(1,2 ), max_features=max_features)\r\n",
        "  tfidf_vect_ngram.fit(trainDF['text'])\r\n",
        "  xtrain_tfidf_ngram =  tfidf_vect_ngram.transform(train_x)\r\n",
        "  xvalid_tfidf_ngram =  tfidf_vect_ngram.transform(valid_x)\r\n",
        "  return xtrain_tfidf, xvalid_tfidf, xtrain_tfidf_ngram, xvalid_tfidf_ngram"
      ],
      "execution_count": 3,
      "outputs": []
    },
    {
      "cell_type": "code",
      "metadata": {
        "id": "JKEpEjm6yuTd"
      },
      "source": [
        "def clasification_benchmark(txt_description, classifier, feature_vector_train, feature_vector_valid):\r\n",
        "  classifier.fit(feature_vector_train, train_y)\r\n",
        "  predictions = classifier.predict(feature_vector_valid)\r\n",
        "  accuracy = metrics.accuracy_score(valid_y, predictions)\r\n",
        "  print(txt_description, ' ', accuracy)\r\n",
        "  return accuracy"
      ],
      "execution_count": 4,
      "outputs": []
    },
    {
      "cell_type": "code",
      "metadata": {
        "id": "yi7u_0dX3zgG"
      },
      "source": [
        "def calculate_classifiers_accuracy(feature_no_list):\r\n",
        "  accuracy_matrix = []\r\n",
        "\r\n",
        "  for max_feature in feature_no_list:\r\n",
        "    print(max_feature)\r\n",
        "    xtrain_tfidf, xvalid_tfidf, xtrain_tfidf_ngram, xvalid_tfidf_ngram = calculate_feature_vectors_tfifd(max_feature)\r\n",
        "    acc_list = []\r\n",
        "    acc_list.append(max_feature) # add max_feature number to output array\r\n",
        "    acc_list.append(clasification_benchmark('NB,  word,      ', naive_bayes.MultinomialNB(), xtrain_tfidf, xvalid_tfidf)) \r\n",
        "    acc_list.append(clasification_benchmark('NB,  (1-2)grams ', naive_bayes.MultinomialNB(), xtrain_tfidf_ngram, xvalid_tfidf_ngram)) \r\n",
        "    acc_list.append(clasification_benchmark('SVM, word,      ', svm.SVC(), xtrain_tfidf, xvalid_tfidf)) \r\n",
        "    acc_list.append(clasification_benchmark('SVM, (1-2)grams ', svm.SVC(), xtrain_tfidf_ngram, xvalid_tfidf_ngram)) \r\n",
        "    acc_list.append(clasification_benchmark('LR, word,       ', linear_model.LogisticRegression(), xtrain_tfidf, xvalid_tfidf)) \r\n",
        "    acc_list.append(clasification_benchmark('LR, (1-2)gram   ', linear_model.LogisticRegression(), xtrain_tfidf_ngram, xvalid_tfidf_ngram))\r\n",
        "    accuracy_matrix.append(acc_list)\r\n",
        "  return accuracy_matrix"
      ],
      "execution_count": 5,
      "outputs": []
    },
    {
      "cell_type": "markdown",
      "metadata": {
        "id": "h0lduGuFZO9g"
      },
      "source": [
        "# 2. Constants and paths defintion"
      ]
    },
    {
      "cell_type": "code",
      "metadata": {
        "id": "J4jxpoEFWUPg"
      },
      "source": [
        "fig_path = '/content/drive/MyDrive/figures/'\r\n",
        "feature_no_list = [1000, \r\n",
        "                   5000, \r\n",
        "                   10000,\r\n",
        "                   15000,\r\n",
        "                   20000,\r\n",
        "                   40000,\r\n",
        "                   ]\r\n",
        " \r\n",
        "\r\n",
        "# raw corpora\r\n",
        "raw_corpora = '/content/drive/MyDrive/master_datasets/wiki_preprocessed/wikiInOneFileDataset.txt'\r\n",
        "save_heat_map_path = fig_path + 'wiki_tfidf_classfiers_features_number_heatmap.svg'\r\n",
        "# lemmatized corpora\r\n",
        "lemmatized_corpora = '/content/drive/MyDrive/master_datasets/wiki_preprocessed/wikiInOneFileDataset_lemmas.txt'\r\n",
        "save_heat_map_path = fig_path + 'wiki_tfidf_classfiers_features_number_heatmap_lemmas.svg'"
      ],
      "execution_count": 6,
      "outputs": []
    },
    {
      "cell_type": "markdown",
      "metadata": {
        "id": "Od8fvaJtZg3R"
      },
      "source": [
        "# 3. Benchmarks"
      ]
    },
    {
      "cell_type": "code",
      "metadata": {
        "id": "saCPBnmHJ68V"
      },
      "source": [
        "# count unique tokens\r\n",
        "trainDF = load_corpora_to_dataframe(raw_corpora)\r\n",
        "tfidf_vect = TfidfVectorizer(analyzer='word', token_pattern=r'(?u)\\b\\w+\\b')\r\n",
        "tfidf_vect_ngram = TfidfVectorizer(analyzer='word', token_pattern=r'(?u)\\b\\w+\\b', ngram_range=(1,2 ))\r\n",
        "tfidf_vect.fit(trainDF['text'])\r\n",
        "tfidf_vect_ngram.fit(trainDF['text'])\r\n",
        "print('(raw dataset) number of unique tokens for:')\r\n",
        "print('monograms', len(tfidf_vect.get_feature_names()))\r\n",
        "print('(1-2)grams', len(tfidf_vect_ngram.get_feature_names()))"
      ],
      "execution_count": null,
      "outputs": []
    },
    {
      "cell_type": "code",
      "metadata": {
        "id": "ggrpUdBkJ9V2"
      },
      "source": [
        "trainDF = load_corpora_to_dataframe(lemmatized_corpora)\r\n",
        "tfidf_vect = TfidfVectorizer(analyzer='word', token_pattern=r'(?u)\\b\\w+\\b')\r\n",
        "tfidf_vect_ngram = TfidfVectorizer(analyzer='word', token_pattern=r'(?u)\\b\\w+\\b', ngram_range=(1,2 ))\r\n",
        "tfidf_vect.fit(trainDF['text'])\r\n",
        "tfidf_vect_ngram.fit(trainDF['text'])\r\n",
        "print('(lemmatized dataset) number of unique tokens for:')\r\n",
        "print('monograms', len(tfidf_vect.get_feature_names()))\r\n",
        "print('(1-2)grams', len(tfidf_vect_ngram.get_feature_names()))"
      ],
      "execution_count": null,
      "outputs": []
    },
    {
      "cell_type": "markdown",
      "metadata": {
        "id": "QVc2Aiz6KFJ9"
      },
      "source": [
        "## 3.1 Raw corpora benchmark"
      ]
    },
    {
      "cell_type": "code",
      "metadata": {
        "colab": {
          "base_uri": "https://localhost:8080/",
          "height": 949
        },
        "id": "2Se1jRBeWuzn",
        "outputId": "b7f2cbb8-2cf2-4c98-8e2c-928598a4de46"
      },
      "source": [
        "trainDF = load_corpora_to_dataframe(raw_corpora)\r\n",
        "\r\n",
        "# split the dataset into training and validation datasets\r\n",
        "train_x, valid_x, train_y, valid_y = model_selection.train_test_split(trainDF['text'], trainDF['label'], test_size=0.2, random_state=42)\r\n",
        "\r\n",
        "# label encode the target variable \r\n",
        "encoder = preprocessing.LabelEncoder()\r\n",
        "train_y = encoder.fit_transform(train_y)\r\n",
        "valid_y = encoder.fit_transform(valid_y)\r\n",
        "accurracy_matrix_raw = calculate_classifiers_accuracy(feature_no_list)\r\n",
        "df = pandas.DataFrame(accurracy_matrix_raw, \r\n",
        "                      columns=('no_featues', 'NB,  word,      ', 'NB,  (1-2)grams ', 'SVM, word,      ', 'SVM, (1-2)grams ', 'LR, word,       ', 'LR, (1-2)gram   '))\r\n",
        "df"
      ],
      "execution_count": 7,
      "outputs": [
        {
          "output_type": "stream",
          "text": [
            "1000\n",
            "NB,  word,         0.6971677559912854\n",
            "NB,  (1-2)grams    0.6811909949164852\n",
            "SVM, word,         0.7436456063907044\n",
            "SVM, (1-2)grams    0.7312999273783588\n",
            "LR, word,          0.7378358750907771\n",
            "LR, (1-2)gram      0.7269426289034132\n",
            "5000\n",
            "NB,  word,         0.7923021060275962\n",
            "NB,  (1-2)grams    0.7799564270152506\n",
            "SVM, word,         0.859840232389252\n",
            "SVM, (1-2)grams    0.8467683369644154\n",
            "LR, word,          0.8612926652142339\n",
            "LR, (1-2)gram      0.8474945533769063\n",
            "10000\n",
            "NB,  word,         0.8053740014524329\n",
            "NB,  (1-2)grams    0.8046477850399419\n",
            "SVM, word,         0.8700072621641249\n",
            "SVM, (1-2)grams    0.8612926652142339\n",
            "LR, word,          0.869281045751634\n",
            "LR, (1-2)gram      0.8634713144517067\n",
            "15000\n",
            "NB,  word,         0.8119099491648512\n",
            "NB,  (1-2)grams    0.8046477850399419\n",
            "SVM, word,         0.8678286129266521\n",
            "SVM, (1-2)grams    0.8641975308641975\n",
            "LR, word,          0.8743645606390704\n",
            "LR, (1-2)gram      0.8678286129266521\n",
            "20000\n",
            "NB,  word,         0.813362381989833\n",
            "NB,  (1-2)grams    0.8090050835148874\n",
            "SVM, word,         0.8641975308641975\n",
            "SVM, (1-2)grams    0.8612926652142339\n",
            "LR, word,          0.8729121278140886\n",
            "LR, (1-2)gram      0.8721859114015976\n",
            "40000\n",
            "NB,  word,         0.8148148148148148\n",
            "NB,  (1-2)grams    0.8177196804647785\n",
            "SVM, word,         0.8627450980392157\n",
            "SVM, (1-2)grams    0.8576615831517792\n",
            "LR, word,          0.8750907770515614\n",
            "LR, (1-2)gram      0.8758169934640523\n"
          ],
          "name": "stdout"
        },
        {
          "output_type": "execute_result",
          "data": {
            "text/html": [
              "<div>\n",
              "<style scoped>\n",
              "    .dataframe tbody tr th:only-of-type {\n",
              "        vertical-align: middle;\n",
              "    }\n",
              "\n",
              "    .dataframe tbody tr th {\n",
              "        vertical-align: top;\n",
              "    }\n",
              "\n",
              "    .dataframe thead th {\n",
              "        text-align: right;\n",
              "    }\n",
              "</style>\n",
              "<table border=\"1\" class=\"dataframe\">\n",
              "  <thead>\n",
              "    <tr style=\"text-align: right;\">\n",
              "      <th></th>\n",
              "      <th>no_featues</th>\n",
              "      <th>NB,  word,</th>\n",
              "      <th>NB,  (1-2)grams</th>\n",
              "      <th>SVM, word,</th>\n",
              "      <th>SVM, (1-2)grams</th>\n",
              "      <th>LR, word,</th>\n",
              "      <th>LR, (1-2)gram</th>\n",
              "    </tr>\n",
              "  </thead>\n",
              "  <tbody>\n",
              "    <tr>\n",
              "      <th>0</th>\n",
              "      <td>1000</td>\n",
              "      <td>0.697168</td>\n",
              "      <td>0.681191</td>\n",
              "      <td>0.743646</td>\n",
              "      <td>0.731300</td>\n",
              "      <td>0.737836</td>\n",
              "      <td>0.726943</td>\n",
              "    </tr>\n",
              "    <tr>\n",
              "      <th>1</th>\n",
              "      <td>5000</td>\n",
              "      <td>0.792302</td>\n",
              "      <td>0.779956</td>\n",
              "      <td>0.859840</td>\n",
              "      <td>0.846768</td>\n",
              "      <td>0.861293</td>\n",
              "      <td>0.847495</td>\n",
              "    </tr>\n",
              "    <tr>\n",
              "      <th>2</th>\n",
              "      <td>10000</td>\n",
              "      <td>0.805374</td>\n",
              "      <td>0.804648</td>\n",
              "      <td>0.870007</td>\n",
              "      <td>0.861293</td>\n",
              "      <td>0.869281</td>\n",
              "      <td>0.863471</td>\n",
              "    </tr>\n",
              "    <tr>\n",
              "      <th>3</th>\n",
              "      <td>15000</td>\n",
              "      <td>0.811910</td>\n",
              "      <td>0.804648</td>\n",
              "      <td>0.867829</td>\n",
              "      <td>0.864198</td>\n",
              "      <td>0.874365</td>\n",
              "      <td>0.867829</td>\n",
              "    </tr>\n",
              "    <tr>\n",
              "      <th>4</th>\n",
              "      <td>20000</td>\n",
              "      <td>0.813362</td>\n",
              "      <td>0.809005</td>\n",
              "      <td>0.864198</td>\n",
              "      <td>0.861293</td>\n",
              "      <td>0.872912</td>\n",
              "      <td>0.872186</td>\n",
              "    </tr>\n",
              "    <tr>\n",
              "      <th>5</th>\n",
              "      <td>40000</td>\n",
              "      <td>0.814815</td>\n",
              "      <td>0.817720</td>\n",
              "      <td>0.862745</td>\n",
              "      <td>0.857662</td>\n",
              "      <td>0.875091</td>\n",
              "      <td>0.875817</td>\n",
              "    </tr>\n",
              "  </tbody>\n",
              "</table>\n",
              "</div>"
            ],
            "text/plain": [
              "   no_featues  NB,  word,        ...  LR, word,         LR, (1-2)gram   \n",
              "0        1000          0.697168  ...          0.737836          0.726943\n",
              "1        5000          0.792302  ...          0.861293          0.847495\n",
              "2       10000          0.805374  ...          0.869281          0.863471\n",
              "3       15000          0.811910  ...          0.874365          0.867829\n",
              "4       20000          0.813362  ...          0.872912          0.872186\n",
              "5       40000          0.814815  ...          0.875091          0.875817\n",
              "\n",
              "[6 rows x 7 columns]"
            ]
          },
          "metadata": {
            "tags": []
          },
          "execution_count": 7
        }
      ]
    },
    {
      "cell_type": "code",
      "metadata": {
        "id": "oDp0qbKqafux"
      },
      "source": [
        "# fig = df.plot.line(figsize=(14,8), xlabel='No. of features', ylabel='Accuracy').get_figure()"
      ],
      "execution_count": 8,
      "outputs": []
    },
    {
      "cell_type": "code",
      "metadata": {
        "id": "BCGlvMXLaA8G"
      },
      "source": [
        "# fig.savefig(fig_path + f'wiki_tfidf_classfiers_features_number_accuracy_chart{timestamp}.svg')"
      ],
      "execution_count": 9,
      "outputs": []
    },
    {
      "cell_type": "markdown",
      "metadata": {
        "id": "3E4Tx5djakio"
      },
      "source": [
        "## 3.2 Lemmatized corpora benchamrk"
      ]
    },
    {
      "cell_type": "code",
      "metadata": {
        "colab": {
          "base_uri": "https://localhost:8080/",
          "height": 949
        },
        "id": "yKuLth5daU0o",
        "outputId": "d059cf29-f512-4c08-e728-f282a906fe7c"
      },
      "source": [
        "trainDF = load_corpora_to_dataframe(lemmatized_corpora)\r\n",
        "\r\n",
        "# split the dataset into training and validation datasets\r\n",
        "train_x, valid_x, train_y, valid_y = model_selection.train_test_split(trainDF['text'], trainDF['label'], test_size=0.2, random_state=42)\r\n",
        "\r\n",
        "# label encode the target variable \r\n",
        "encoder = preprocessing.LabelEncoder()\r\n",
        "train_y = encoder.fit_transform(train_y)\r\n",
        "valid_y = encoder.fit_transform(valid_y)\r\n",
        "accurracy_matrix_lemmas = calculate_classifiers_accuracy(feature_no_list)\r\n",
        "df = pandas.DataFrame(accurracy_matrix_lemmas, \r\n",
        "                      columns=('no_featues' ,'NB,  word,      ', 'NB,  (1-2)grams ', 'SVM, word,      ', 'SVM, (1-2)grams ', 'LR, word,       ', 'LR, (1-2)gram   '))\r\n",
        "df"
      ],
      "execution_count": 10,
      "outputs": [
        {
          "output_type": "stream",
          "text": [
            "1000\n",
            "NB,  word,         0.8061002178649237\n",
            "NB,  (1-2)grams    0.7879448075526507\n",
            "SVM, word,         0.8533042846768337\n",
            "SVM, (1-2)grams    0.8358750907770516\n",
            "LR, word,          0.85039941902687\n",
            "LR, (1-2)gram      0.8395061728395061\n",
            "5000\n",
            "NB,  word,         0.8438634713144517\n",
            "NB,  (1-2)grams    0.8380537400145244\n",
            "SVM, word,         0.8925199709513435\n",
            "SVM, (1-2)grams    0.8859840232389252\n",
            "LR, word,          0.8961510530137982\n",
            "LR, (1-2)gram      0.8939724037763254\n",
            "10000\n",
            "NB,  word,         0.8518518518518519\n",
            "NB,  (1-2)grams    0.8518518518518519\n",
            "SVM, word,         0.8961510530137982\n",
            "SVM, (1-2)grams    0.8939724037763254\n",
            "LR, word,          0.8990559186637618\n",
            "LR, (1-2)gram      0.9019607843137255\n",
            "15000\n",
            "NB,  word,         0.8554829339143064\n",
            "NB,  (1-2)grams    0.8518518518518519\n",
            "SVM, word,         0.8961510530137982\n",
            "SVM, (1-2)grams    0.8954248366013072\n",
            "LR, word,          0.8997821350762527\n",
            "LR, (1-2)gram      0.8997821350762527\n",
            "20000\n",
            "NB,  word,         0.8547567175018156\n",
            "NB,  (1-2)grams    0.8547567175018156\n",
            "SVM, word,         0.8983297022512708\n",
            "SVM, (1-2)grams    0.8946986201888163\n",
            "LR, word,          0.8997821350762527\n",
            "LR, (1-2)gram      0.8976034858387799\n",
            "40000\n",
            "NB,  word,         0.8496732026143791\n",
            "NB,  (1-2)grams    0.8525780682643428\n",
            "SVM, word,         0.8939724037763254\n",
            "SVM, (1-2)grams    0.8946986201888163\n",
            "LR, word,          0.8983297022512708\n",
            "LR, (1-2)gram      0.8983297022512708\n"
          ],
          "name": "stdout"
        },
        {
          "output_type": "execute_result",
          "data": {
            "text/html": [
              "<div>\n",
              "<style scoped>\n",
              "    .dataframe tbody tr th:only-of-type {\n",
              "        vertical-align: middle;\n",
              "    }\n",
              "\n",
              "    .dataframe tbody tr th {\n",
              "        vertical-align: top;\n",
              "    }\n",
              "\n",
              "    .dataframe thead th {\n",
              "        text-align: right;\n",
              "    }\n",
              "</style>\n",
              "<table border=\"1\" class=\"dataframe\">\n",
              "  <thead>\n",
              "    <tr style=\"text-align: right;\">\n",
              "      <th></th>\n",
              "      <th>no_featues</th>\n",
              "      <th>NB,  word,</th>\n",
              "      <th>NB,  (1-2)grams</th>\n",
              "      <th>SVM, word,</th>\n",
              "      <th>SVM, (1-2)grams</th>\n",
              "      <th>LR, word,</th>\n",
              "      <th>LR, (1-2)gram</th>\n",
              "    </tr>\n",
              "  </thead>\n",
              "  <tbody>\n",
              "    <tr>\n",
              "      <th>0</th>\n",
              "      <td>1000</td>\n",
              "      <td>0.806100</td>\n",
              "      <td>0.787945</td>\n",
              "      <td>0.853304</td>\n",
              "      <td>0.835875</td>\n",
              "      <td>0.850399</td>\n",
              "      <td>0.839506</td>\n",
              "    </tr>\n",
              "    <tr>\n",
              "      <th>1</th>\n",
              "      <td>5000</td>\n",
              "      <td>0.843863</td>\n",
              "      <td>0.838054</td>\n",
              "      <td>0.892520</td>\n",
              "      <td>0.885984</td>\n",
              "      <td>0.896151</td>\n",
              "      <td>0.893972</td>\n",
              "    </tr>\n",
              "    <tr>\n",
              "      <th>2</th>\n",
              "      <td>10000</td>\n",
              "      <td>0.851852</td>\n",
              "      <td>0.851852</td>\n",
              "      <td>0.896151</td>\n",
              "      <td>0.893972</td>\n",
              "      <td>0.899056</td>\n",
              "      <td>0.901961</td>\n",
              "    </tr>\n",
              "    <tr>\n",
              "      <th>3</th>\n",
              "      <td>15000</td>\n",
              "      <td>0.855483</td>\n",
              "      <td>0.851852</td>\n",
              "      <td>0.896151</td>\n",
              "      <td>0.895425</td>\n",
              "      <td>0.899782</td>\n",
              "      <td>0.899782</td>\n",
              "    </tr>\n",
              "    <tr>\n",
              "      <th>4</th>\n",
              "      <td>20000</td>\n",
              "      <td>0.854757</td>\n",
              "      <td>0.854757</td>\n",
              "      <td>0.898330</td>\n",
              "      <td>0.894699</td>\n",
              "      <td>0.899782</td>\n",
              "      <td>0.897603</td>\n",
              "    </tr>\n",
              "    <tr>\n",
              "      <th>5</th>\n",
              "      <td>40000</td>\n",
              "      <td>0.849673</td>\n",
              "      <td>0.852578</td>\n",
              "      <td>0.893972</td>\n",
              "      <td>0.894699</td>\n",
              "      <td>0.898330</td>\n",
              "      <td>0.898330</td>\n",
              "    </tr>\n",
              "  </tbody>\n",
              "</table>\n",
              "</div>"
            ],
            "text/plain": [
              "   no_featues  NB,  word,        ...  LR, word,         LR, (1-2)gram   \n",
              "0        1000          0.806100  ...          0.850399          0.839506\n",
              "1        5000          0.843863  ...          0.896151          0.893972\n",
              "2       10000          0.851852  ...          0.899056          0.901961\n",
              "3       15000          0.855483  ...          0.899782          0.899782\n",
              "4       20000          0.854757  ...          0.899782          0.897603\n",
              "5       40000          0.849673  ...          0.898330          0.898330\n",
              "\n",
              "[6 rows x 7 columns]"
            ]
          },
          "metadata": {
            "tags": []
          },
          "execution_count": 10
        }
      ]
    },
    {
      "cell_type": "code",
      "metadata": {
        "id": "SkS06llEauFR"
      },
      "source": [
        "# fig =  df.plot.line(figsize=(14,8), xlabel='No. of features', ylabel='Accuracy').get_figure()"
      ],
      "execution_count": 11,
      "outputs": []
    },
    {
      "cell_type": "code",
      "metadata": {
        "id": "t_YVY5ASaYH5"
      },
      "source": [
        "# fig.savefig(fig_path + 'wiki_tfidf_classfiers_features_number_accuracy_chart_lemmas.svg')"
      ],
      "execution_count": 12,
      "outputs": []
    },
    {
      "cell_type": "code",
      "metadata": {
        "id": "LYM25IwU43dl"
      },
      "source": [
        "# import seaborn as sns\r\n",
        "# import matplotlib.pyplot as plt\r\n",
        "\r\n",
        "# fig, ax = plt.subplots(figsize=(14,8))\r\n",
        "\r\n",
        "# sns.heatmap(df, annot=True, cmap=\"Blues\")\r\n",
        "# plt.savefig(save_heat_map_path)\r\n",
        "# plt.xlabel('Classifier and featres vector type')\r\n",
        "# plt.ylabel('No. of features')"
      ],
      "execution_count": 13,
      "outputs": []
    }
  ]
}