{
  "nbformat": 4,
  "nbformat_minor": 0,
  "metadata": {
    "colab": {
      "name": "M_TD-IDF_wiki_34",
      "provenance": [],
      "collapsed_sections": [],
      "toc_visible": true,
      "mount_file_id": "1JsrFppp2MxDZ7S9Amug4mC2d9oh7w0Oe",
      "authorship_tag": "ABX9TyO9bYHj4zzWeSd1fyXQ4NYa",
      "include_colab_link": true
    },
    "kernelspec": {
      "name": "python3",
      "display_name": "Python 3"
    }
  },
  "cells": [
    {
      "cell_type": "markdown",
      "metadata": {
        "id": "view-in-github",
        "colab_type": "text"
      },
      "source": [
        "<a href=\"https://colab.research.google.com/github/bogus1aw/text-classification-benchmark/blob/main/M_TD_IDF_wiki_34.ipynb\" target=\"_parent\"><img src=\"https://colab.research.google.com/assets/colab-badge.svg\" alt=\"Open In Colab\"/></a>"
      ]
    },
    {
      "cell_type": "markdown",
      "metadata": {
        "id": "r3PAWlQbvxud"
      },
      "source": [
        "# TF-IDF benchmark for wiki dataset https://clarin-pl.eu/dspace/handle/11321/738\r\n",
        "\r\n",
        "gdrive mounted manually form GUI"
      ]
    },
    {
      "cell_type": "code",
      "metadata": {
        "id": "Ds8qiFIctn1R"
      },
      "source": [
        "from sklearn import model_selection, preprocessing, linear_model, naive_bayes, metrics, svm\r\n",
        "from sklearn.feature_extraction.text import TfidfVectorizer, CountVectorizer\r\n",
        "from sklearn import decomposition, ensemble\r\n",
        "\r\n",
        "import pandas, xgboost, numpy, textblob, string\r\n",
        "from keras.preprocessing import text, sequence\r\n",
        "from keras import layers, models, optimizers\r\n",
        "\r\n",
        "import matplotlib.pyplot as plt\r\n",
        "\r\n",
        "import datetime\r\n",
        "import time\r\n",
        "\r\n",
        "timestamp = datetime.datetime.now().replace(microsecond=0).isoformat().replace(':', '-')\r\n"
      ],
      "execution_count": null,
      "outputs": []
    },
    {
      "cell_type": "markdown",
      "metadata": {
        "id": "e1Advfk4w3Y8"
      },
      "source": [
        "# 1. Function definitions"
      ]
    },
    {
      "cell_type": "code",
      "metadata": {
        "id": "H1FSc9zBweR1"
      },
      "source": [
        "def load_corpora_to_dataframe(corpora):\r\n",
        "  data = open(corpora).read()\r\n",
        "  labels, texts = [], []\r\n",
        "  for i, line in enumerate(data.split(\"\\n\")):\r\n",
        "      content = line.split()\r\n",
        "      labels.append(content[0])\r\n",
        "      texts.append(\" \".join(content[1:]))\r\n",
        "\r\n",
        "  # create a dataframe using texts and lables\r\n",
        "  trainDF = pandas.DataFrame()\r\n",
        "  trainDF['text'] = texts\r\n",
        "  trainDF['label'] = labels\r\n",
        "  return trainDF"
      ],
      "execution_count": null,
      "outputs": []
    },
    {
      "cell_type": "code",
      "metadata": {
        "id": "G8KlahQByMYt"
      },
      "source": [
        "def calculate_feature_vectors_tfifd(max_features):\r\n",
        "  # word level tf-idf\r\n",
        "  tfidf_vect = TfidfVectorizer(analyzer='word', max_features=max_features)\r\n",
        "  tfidf_vect.fit(trainDF['text']) \r\n",
        "  xtrain_tfidf =  tfidf_vect.transform(train_x)\r\n",
        "  xvalid_tfidf =  tfidf_vect.transform(valid_x)\r\n",
        "  # ngram level tf-idf \r\n",
        "  tfidf_vect_ngram = TfidfVectorizer(analyzer='word', ngram_range=(1,2 ), max_features=max_features)\r\n",
        "  tfidf_vect_ngram.fit(trainDF['text'])\r\n",
        "  xtrain_tfidf_ngram =  tfidf_vect_ngram.transform(train_x)\r\n",
        "  xvalid_tfidf_ngram =  tfidf_vect_ngram.transform(valid_x)\r\n",
        "  return xtrain_tfidf, xvalid_tfidf, xtrain_tfidf_ngram, xvalid_tfidf_ngram"
      ],
      "execution_count": null,
      "outputs": []
    },
    {
      "cell_type": "code",
      "metadata": {
        "id": "JKEpEjm6yuTd"
      },
      "source": [
        "def clasification_benchmark(txt_description, classifier, feature_vector_train, feature_vector_valid):\r\n",
        "  classifier.fit(feature_vector_train, train_y)\r\n",
        "  predictions = classifier.predict(feature_vector_valid)\r\n",
        "  accuracy = metrics.accuracy_score(valid_y, predictions)\r\n",
        "  print(txt_description, ' ', accuracy)\r\n",
        "  return accuracy"
      ],
      "execution_count": null,
      "outputs": []
    },
    {
      "cell_type": "code",
      "metadata": {
        "id": "yi7u_0dX3zgG"
      },
      "source": [
        "def calculate_classifiers_accuracy(feature_no_list):\r\n",
        "  accuracy_matrix = []\r\n",
        "\r\n",
        "  for max_feature in feature_no_list:\r\n",
        "    print(max_feature)\r\n",
        "    xtrain_tfidf, xvalid_tfidf, xtrain_tfidf_ngram, xvalid_tfidf_ngram = calculate_feature_vectors_tfifd(max_feature)\r\n",
        "    acc_list = []\r\n",
        "    acc_list.append(max_feature) # add max_feature number to output array\r\n",
        "    acc_list.append(clasification_benchmark('NB,  word,      ', naive_bayes.MultinomialNB(), xtrain_tfidf, xvalid_tfidf)) \r\n",
        "    acc_list.append(clasification_benchmark('NB,  (1-2)grams ', naive_bayes.MultinomialNB(), xtrain_tfidf_ngram, xvalid_tfidf_ngram)) \r\n",
        "    acc_list.append(clasification_benchmark('SVM, word,      ', svm.SVC(), xtrain_tfidf, xvalid_tfidf)) \r\n",
        "    acc_list.append(clasification_benchmark('SVM, (1-2)grams ', svm.SVC(), xtrain_tfidf_ngram, xvalid_tfidf_ngram)) \r\n",
        "    acc_list.append(clasification_benchmark('LR, word,       ', linear_model.LogisticRegression(), xtrain_tfidf, xvalid_tfidf)) \r\n",
        "    acc_list.append(clasification_benchmark('LR, (1-2)gram   ', linear_model.LogisticRegression(), xtrain_tfidf_ngram, xvalid_tfidf_ngram))\r\n",
        "    accuracy_matrix.append(acc_list)\r\n",
        "  return accuracy_matrix"
      ],
      "execution_count": null,
      "outputs": []
    },
    {
      "cell_type": "markdown",
      "metadata": {
        "id": "h0lduGuFZO9g"
      },
      "source": [
        "# 2. Constants and paths defintion"
      ]
    },
    {
      "cell_type": "code",
      "metadata": {
        "id": "J4jxpoEFWUPg"
      },
      "source": [
        "fig_path = '/content/drive/MyDrive/figures/'\r\n",
        "feature_no_list = [1000, \r\n",
        "                   5000, \r\n",
        "                   10000,\r\n",
        "                   15000,\r\n",
        "                   20000,\r\n",
        "                   40000,\r\n",
        "                   ]\r\n",
        " \r\n",
        "\r\n",
        "# raw corpora\r\n",
        "raw_corpora = '/content/drive/MyDrive/master_datasets/wiki_preprocessed/wikiInOneFileDataset.txt'\r\n",
        "save_heat_map_path = fig_path + 'wiki_tfidf_classfiers_features_number_heatmap.svg'\r\n",
        "# lemmatized corpora\r\n",
        "lemmatized_corpora = '/content/drive/MyDrive/master_datasets/wiki_preprocessed/wikiInOneFileDataset_lemmas.txt'\r\n",
        "save_heat_map_path = fig_path + 'wiki_tfidf_classfiers_features_number_heatmap_lemmas.svg'"
      ],
      "execution_count": null,
      "outputs": []
    },
    {
      "cell_type": "markdown",
      "metadata": {
        "id": "Od8fvaJtZg3R"
      },
      "source": [
        "# 3. Benchmarks\r\n",
        "## 3.1 Raw corpora benchmark"
      ]
    },
    {
      "cell_type": "code",
      "metadata": {
        "colab": {
          "base_uri": "https://localhost:8080/"
        },
        "id": "2Se1jRBeWuzn",
        "outputId": "7431d339-c602-4021-d690-b6d10241822d"
      },
      "source": [
        "trainDF = load_corpora_to_dataframe(raw_corpora)\r\n",
        "\r\n",
        "# split the dataset into training and validation datasets\r\n",
        "train_x, valid_x, train_y, valid_y = model_selection.train_test_split(trainDF['text'], trainDF['label'], test_size=0.2, random_state=42)\r\n",
        "\r\n",
        "# label encode the target variable \r\n",
        "encoder = preprocessing.LabelEncoder()\r\n",
        "train_y = encoder.fit_transform(train_y)\r\n",
        "valid_y = encoder.fit_transform(valid_y)\r\n",
        "accurracy_matrix_raw = calculate_classifiers_accuracy(feature_no_list)\r\n",
        "df = pandas.DataFrame(accurracy_matrix_raw, \r\n",
        "                      columns=('no_featues', 'NB,  word,      ', 'NB,  (1-2)grams ', 'SVM, word,      ', 'SVM, (1-2)grams ', 'LR, word,       ', 'LR, (1-2)gram   '))\r\n",
        "df"
      ],
      "execution_count": null,
      "outputs": [
        {
          "output_type": "stream",
          "text": [
            "1000\n",
            "NB,  word,         0.6971677559912854\n",
            "NB,  (1-2)grams    0.6884531590413944\n",
            "SVM, word,         0.739288307915759\n",
            "SVM, (1-2)grams    0.7334785766158315\n",
            "LR, word,          0.7378358750907771\n",
            "LR, (1-2)gram      0.7334785766158315\n",
            "5000\n",
            "NB,  word,         0.8053740014524329\n",
            "NB,  (1-2)grams    0.7988380537400145\n",
            "SVM, word,         0.8583877995642701\n",
            "SVM, (1-2)grams    0.8562091503267973\n",
            "LR, word,          0.8612926652142339\n",
            "LR, (1-2)gram      0.8533042846768337\n",
            "10000\n",
            "NB,  word,         0.8126361655773421\n",
            "NB,  (1-2)grams    0.8097312999273784\n",
            "SVM, word,         0.8634713144517067\n",
            "SVM, (1-2)grams    0.8540305010893247\n",
            "LR, word,          0.869281045751634\n",
            "LR, (1-2)gram      0.8634713144517067\n",
            "15000\n",
            "NB,  word,         0.8191721132897604\n",
            "NB,  (1-2)grams    0.8155410312273057\n",
            "SVM, word,         0.8671023965141612\n",
            "SVM, (1-2)grams    0.8641975308641975\n",
            "LR, word,          0.878721859114016\n",
            "LR, (1-2)gram      0.8671023965141612\n",
            "20000\n",
            "NB,  word,         0.8206245461147422\n",
            "NB,  (1-2)grams    0.8206245461147422\n",
            "SVM, word,         0.8656499636891793\n",
            "SVM, (1-2)grams    0.8620188816267248\n",
            "LR, word,          0.8743645606390704\n",
            "LR, (1-2)gram      0.8736383442265795\n",
            "40000\n",
            "NB,  word,         0.8242556281771968\n",
            "NB,  (1-2)grams    0.8257080610021786\n",
            "SVM, word,         0.8605664488017429\n",
            "SVM, (1-2)grams    0.8605664488017429\n",
            "LR, word,          0.879448075526507\n",
            "LR, (1-2)gram      0.879448075526507\n"
          ],
          "name": "stdout"
        },
        {
          "output_type": "execute_result",
          "data": {
            "text/html": [
              "<div>\n",
              "<style scoped>\n",
              "    .dataframe tbody tr th:only-of-type {\n",
              "        vertical-align: middle;\n",
              "    }\n",
              "\n",
              "    .dataframe tbody tr th {\n",
              "        vertical-align: top;\n",
              "    }\n",
              "\n",
              "    .dataframe thead th {\n",
              "        text-align: right;\n",
              "    }\n",
              "</style>\n",
              "<table border=\"1\" class=\"dataframe\">\n",
              "  <thead>\n",
              "    <tr style=\"text-align: right;\">\n",
              "      <th></th>\n",
              "      <th>no_featues</th>\n",
              "      <th>NB,  word,</th>\n",
              "      <th>NB,  (1-2)grams</th>\n",
              "      <th>SVM, word,</th>\n",
              "      <th>SVM, (1-2)grams</th>\n",
              "      <th>LR, word,</th>\n",
              "      <th>LR, (1-2)gram</th>\n",
              "    </tr>\n",
              "  </thead>\n",
              "  <tbody>\n",
              "    <tr>\n",
              "      <th>0</th>\n",
              "      <td>1000</td>\n",
              "      <td>0.697168</td>\n",
              "      <td>0.688453</td>\n",
              "      <td>0.739288</td>\n",
              "      <td>0.733479</td>\n",
              "      <td>0.737836</td>\n",
              "      <td>0.733479</td>\n",
              "    </tr>\n",
              "    <tr>\n",
              "      <th>1</th>\n",
              "      <td>5000</td>\n",
              "      <td>0.805374</td>\n",
              "      <td>0.798838</td>\n",
              "      <td>0.858388</td>\n",
              "      <td>0.856209</td>\n",
              "      <td>0.861293</td>\n",
              "      <td>0.853304</td>\n",
              "    </tr>\n",
              "    <tr>\n",
              "      <th>2</th>\n",
              "      <td>10000</td>\n",
              "      <td>0.812636</td>\n",
              "      <td>0.809731</td>\n",
              "      <td>0.863471</td>\n",
              "      <td>0.854031</td>\n",
              "      <td>0.869281</td>\n",
              "      <td>0.863471</td>\n",
              "    </tr>\n",
              "    <tr>\n",
              "      <th>3</th>\n",
              "      <td>15000</td>\n",
              "      <td>0.819172</td>\n",
              "      <td>0.815541</td>\n",
              "      <td>0.867102</td>\n",
              "      <td>0.864198</td>\n",
              "      <td>0.878722</td>\n",
              "      <td>0.867102</td>\n",
              "    </tr>\n",
              "    <tr>\n",
              "      <th>4</th>\n",
              "      <td>20000</td>\n",
              "      <td>0.820625</td>\n",
              "      <td>0.820625</td>\n",
              "      <td>0.865650</td>\n",
              "      <td>0.862019</td>\n",
              "      <td>0.874365</td>\n",
              "      <td>0.873638</td>\n",
              "    </tr>\n",
              "    <tr>\n",
              "      <th>5</th>\n",
              "      <td>40000</td>\n",
              "      <td>0.824256</td>\n",
              "      <td>0.825708</td>\n",
              "      <td>0.860566</td>\n",
              "      <td>0.860566</td>\n",
              "      <td>0.879448</td>\n",
              "      <td>0.879448</td>\n",
              "    </tr>\n",
              "  </tbody>\n",
              "</table>\n",
              "</div>"
            ],
            "text/plain": [
              "   no_featues  NB,  word,        ...  LR, word,         LR, (1-2)gram   \n",
              "0        1000          0.697168  ...          0.737836          0.733479\n",
              "1        5000          0.805374  ...          0.861293          0.853304\n",
              "2       10000          0.812636  ...          0.869281          0.863471\n",
              "3       15000          0.819172  ...          0.878722          0.867102\n",
              "4       20000          0.820625  ...          0.874365          0.873638\n",
              "5       40000          0.824256  ...          0.879448          0.879448\n",
              "\n",
              "[6 rows x 7 columns]"
            ]
          },
          "metadata": {
            "tags": []
          },
          "execution_count": 7
        }
      ]
    },
    {
      "cell_type": "code",
      "metadata": {
        "id": "oDp0qbKqafux"
      },
      "source": [
        "# fig = df.plot.line(figsize=(14,8), xlabel='No. of features', ylabel='Accuracy').get_figure()"
      ],
      "execution_count": null,
      "outputs": []
    },
    {
      "cell_type": "code",
      "metadata": {
        "id": "BCGlvMXLaA8G"
      },
      "source": [
        "# fig.savefig(fig_path + f'wiki_tfidf_classfiers_features_number_accuracy_chart{timestamp}.svg')"
      ],
      "execution_count": null,
      "outputs": []
    },
    {
      "cell_type": "markdown",
      "metadata": {
        "id": "3E4Tx5djakio"
      },
      "source": [
        "## 3.2 Lemmatized corpora benchamrk"
      ]
    },
    {
      "cell_type": "code",
      "metadata": {
        "colab": {
          "base_uri": "https://localhost:8080/"
        },
        "id": "yKuLth5daU0o",
        "outputId": "e8d22ce3-4f12-4dd1-d042-86a43a1efba5"
      },
      "source": [
        "trainDF = load_corpora_to_dataframe(lemmatized_corpora)\r\n",
        "\r\n",
        "# split the dataset into training and validation datasets\r\n",
        "train_x, valid_x, train_y, valid_y = model_selection.train_test_split(trainDF['text'], trainDF['label'], test_size=0.2, random_state=42)\r\n",
        "\r\n",
        "# label encode the target variable \r\n",
        "encoder = preprocessing.LabelEncoder()\r\n",
        "train_y = encoder.fit_transform(train_y)\r\n",
        "valid_y = encoder.fit_transform(valid_y)\r\n",
        "accurracy_matrix_lemmas = calculate_classifiers_accuracy(feature_no_list)\r\n",
        "df = pandas.DataFrame(accurracy_matrix_lemmas, \r\n",
        "                      columns=('no_featues' ,'NB,  word,      ', 'NB,  (1-2)grams ', 'SVM, word,      ', 'SVM, (1-2)grams ', 'LR, word,       ', 'LR, (1-2)gram   '))\r\n",
        "df"
      ],
      "execution_count": null,
      "outputs": [
        {
          "output_type": "stream",
          "text": [
            "1000\n",
            "NB,  word,         0.813362381989833\n",
            "NB,  (1-2)grams    0.8053740014524329\n",
            "SVM, word,         0.8496732026143791\n",
            "SVM, (1-2)grams    0.8402323892519971\n",
            "LR, word,          0.8540305010893247\n",
            "LR, (1-2)gram      0.8460421205519245\n",
            "5000\n",
            "NB,  word,         0.8533042846768337\n",
            "NB,  (1-2)grams    0.85039941902687\n",
            "SVM, word,         0.8896151053013798\n",
            "SVM, (1-2)grams    0.8859840232389252\n",
            "LR, word,          0.8997821350762527\n",
            "LR, (1-2)gram      0.8946986201888163\n",
            "10000\n",
            "NB,  word,         0.8576615831517792\n",
            "NB,  (1-2)grams    0.859840232389252\n",
            "SVM, word,         0.8946986201888163\n",
            "SVM, (1-2)grams    0.8976034858387799\n",
            "LR, word,          0.9026870007262164\n",
            "LR, (1-2)gram      0.9034132171387074\n",
            "15000\n",
            "NB,  word,         0.8641975308641975\n",
            "NB,  (1-2)grams    0.8627450980392157\n",
            "SVM, word,         0.8946986201888163\n",
            "SVM, (1-2)grams    0.8961510530137982\n",
            "LR, word,          0.9041394335511983\n",
            "LR, (1-2)gram      0.906318082788671\n",
            "20000\n",
            "NB,  word,         0.859840232389252\n",
            "NB,  (1-2)grams    0.8663761801016703\n",
            "SVM, word,         0.8954248366013072\n",
            "SVM, (1-2)grams    0.8932461873638344\n",
            "LR, word,          0.9048656499636892\n",
            "LR, (1-2)gram      0.906318082788671\n",
            "40000\n",
            "NB,  word,         0.8569353667392883\n",
            "NB,  (1-2)grams    0.8620188816267248\n",
            "SVM, word,         0.8917937545388526\n",
            "SVM, (1-2)grams    0.8954248366013072\n",
            "LR, word,          0.8990559186637618\n",
            "LR, (1-2)gram      0.9041394335511983\n"
          ],
          "name": "stdout"
        },
        {
          "output_type": "execute_result",
          "data": {
            "text/html": [
              "<div>\n",
              "<style scoped>\n",
              "    .dataframe tbody tr th:only-of-type {\n",
              "        vertical-align: middle;\n",
              "    }\n",
              "\n",
              "    .dataframe tbody tr th {\n",
              "        vertical-align: top;\n",
              "    }\n",
              "\n",
              "    .dataframe thead th {\n",
              "        text-align: right;\n",
              "    }\n",
              "</style>\n",
              "<table border=\"1\" class=\"dataframe\">\n",
              "  <thead>\n",
              "    <tr style=\"text-align: right;\">\n",
              "      <th></th>\n",
              "      <th>no_featues</th>\n",
              "      <th>NB,  word,</th>\n",
              "      <th>NB,  (1-2)grams</th>\n",
              "      <th>SVM, word,</th>\n",
              "      <th>SVM, (1-2)grams</th>\n",
              "      <th>LR, word,</th>\n",
              "      <th>LR, (1-2)gram</th>\n",
              "    </tr>\n",
              "  </thead>\n",
              "  <tbody>\n",
              "    <tr>\n",
              "      <th>0</th>\n",
              "      <td>1000</td>\n",
              "      <td>0.813362</td>\n",
              "      <td>0.805374</td>\n",
              "      <td>0.849673</td>\n",
              "      <td>0.840232</td>\n",
              "      <td>0.854031</td>\n",
              "      <td>0.846042</td>\n",
              "    </tr>\n",
              "    <tr>\n",
              "      <th>1</th>\n",
              "      <td>5000</td>\n",
              "      <td>0.853304</td>\n",
              "      <td>0.850399</td>\n",
              "      <td>0.889615</td>\n",
              "      <td>0.885984</td>\n",
              "      <td>0.899782</td>\n",
              "      <td>0.894699</td>\n",
              "    </tr>\n",
              "    <tr>\n",
              "      <th>2</th>\n",
              "      <td>10000</td>\n",
              "      <td>0.857662</td>\n",
              "      <td>0.859840</td>\n",
              "      <td>0.894699</td>\n",
              "      <td>0.897603</td>\n",
              "      <td>0.902687</td>\n",
              "      <td>0.903413</td>\n",
              "    </tr>\n",
              "    <tr>\n",
              "      <th>3</th>\n",
              "      <td>15000</td>\n",
              "      <td>0.864198</td>\n",
              "      <td>0.862745</td>\n",
              "      <td>0.894699</td>\n",
              "      <td>0.896151</td>\n",
              "      <td>0.904139</td>\n",
              "      <td>0.906318</td>\n",
              "    </tr>\n",
              "    <tr>\n",
              "      <th>4</th>\n",
              "      <td>20000</td>\n",
              "      <td>0.859840</td>\n",
              "      <td>0.866376</td>\n",
              "      <td>0.895425</td>\n",
              "      <td>0.893246</td>\n",
              "      <td>0.904866</td>\n",
              "      <td>0.906318</td>\n",
              "    </tr>\n",
              "    <tr>\n",
              "      <th>5</th>\n",
              "      <td>40000</td>\n",
              "      <td>0.856935</td>\n",
              "      <td>0.862019</td>\n",
              "      <td>0.891794</td>\n",
              "      <td>0.895425</td>\n",
              "      <td>0.899056</td>\n",
              "      <td>0.904139</td>\n",
              "    </tr>\n",
              "  </tbody>\n",
              "</table>\n",
              "</div>"
            ],
            "text/plain": [
              "   no_featues  NB,  word,        ...  LR, word,         LR, (1-2)gram   \n",
              "0        1000          0.813362  ...          0.854031          0.846042\n",
              "1        5000          0.853304  ...          0.899782          0.894699\n",
              "2       10000          0.857662  ...          0.902687          0.903413\n",
              "3       15000          0.864198  ...          0.904139          0.906318\n",
              "4       20000          0.859840  ...          0.904866          0.906318\n",
              "5       40000          0.856935  ...          0.899056          0.904139\n",
              "\n",
              "[6 rows x 7 columns]"
            ]
          },
          "metadata": {
            "tags": []
          },
          "execution_count": 10
        }
      ]
    },
    {
      "cell_type": "code",
      "metadata": {
        "id": "SkS06llEauFR"
      },
      "source": [
        "# fig =  df.plot.line(figsize=(14,8), xlabel='No. of features', ylabel='Accuracy').get_figure()"
      ],
      "execution_count": null,
      "outputs": []
    },
    {
      "cell_type": "code",
      "metadata": {
        "id": "t_YVY5ASaYH5"
      },
      "source": [
        "# fig.savefig(fig_path + 'wiki_tfidf_classfiers_features_number_accuracy_chart_lemmas.svg')"
      ],
      "execution_count": null,
      "outputs": []
    },
    {
      "cell_type": "code",
      "metadata": {
        "id": "LYM25IwU43dl"
      },
      "source": [
        "# import seaborn as sns\r\n",
        "# import matplotlib.pyplot as plt\r\n",
        "\r\n",
        "# fig, ax = plt.subplots(figsize=(14,8))\r\n",
        "\r\n",
        "# sns.heatmap(df, annot=True, cmap=\"Blues\")\r\n",
        "# plt.savefig(save_heat_map_path)\r\n",
        "# plt.xlabel('Classifier and featres vector type')\r\n",
        "# plt.ylabel('No. of features')"
      ],
      "execution_count": null,
      "outputs": []
    }
  ]
}