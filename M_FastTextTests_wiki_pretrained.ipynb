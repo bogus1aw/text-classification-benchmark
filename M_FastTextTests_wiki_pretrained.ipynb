{
  "nbformat": 4,
  "nbformat_minor": 0,
  "metadata": {
    "colab": {
      "name": "M_FastTextTests_wiki_pretrained.ipynb",
      "provenance": [],
      "collapsed_sections": [],
      "include_colab_link": true
    },
    "kernelspec": {
      "display_name": "Python 3",
      "language": "python",
      "name": "python3"
    },
    "language_info": {
      "codemirror_mode": {
        "name": "ipython",
        "version": 3
      },
      "file_extension": ".py",
      "mimetype": "text/x-python",
      "name": "python",
      "nbconvert_exporter": "python",
      "pygments_lexer": "ipython3",
      "version": "3.8.5"
    }
  },
  "cells": [
    {
      "cell_type": "markdown",
      "metadata": {
        "id": "view-in-github",
        "colab_type": "text"
      },
      "source": [
        "<a href=\"https://colab.research.google.com/github/bogus1aw/text-classification-benchmark/blob/main/M_FastTextTests_wiki_pretrained.ipynb\" target=\"_parent\"><img src=\"https://colab.research.google.com/assets/colab-badge.svg\" alt=\"Open In Colab\"/></a>"
      ]
    },
    {
      "cell_type": "markdown",
      "metadata": {
        "id": "gmzZtBMi31V8"
      },
      "source": [
        "FastText benchmark for wiki dataset https://clarin-pl.eu/dspace/handle/11321/738"
      ]
    },
    {
      "cell_type": "code",
      "metadata": {
        "colab": {
          "base_uri": "https://localhost:8080/"
        },
        "id": "R8xW4DmI5UaM",
        "outputId": "39e4c00a-9ebc-4e92-bac4-fad8c9424e69"
      },
      "source": [
        "# install fastText\r\n",
        "!git clone https://github.com/facebookresearch/fastText.git\r\n",
        "%cd fastText\r\n",
        "!sudo pip install ."
      ],
      "execution_count": null,
      "outputs": [
        {
          "output_type": "stream",
          "text": [
            "Cloning into 'fastText'...\n",
            "remote: Enumerating objects: 3854, done.\u001b[K\n",
            "remote: Total 3854 (delta 0), reused 0 (delta 0), pack-reused 3854\u001b[K\n",
            "Receiving objects: 100% (3854/3854), 8.23 MiB | 30.85 MiB/s, done.\n",
            "Resolving deltas: 100% (2416/2416), done.\n",
            "/content/fastText\n",
            "Processing /content/fastText\n",
            "Requirement already satisfied: pybind11>=2.2 in /usr/local/lib/python3.6/dist-packages (from fasttext==0.9.2) (2.6.2)\n",
            "Requirement already satisfied: setuptools>=0.7.0 in /usr/local/lib/python3.6/dist-packages (from fasttext==0.9.2) (53.0.0)\n",
            "Requirement already satisfied: numpy in /usr/local/lib/python3.6/dist-packages (from fasttext==0.9.2) (1.19.5)\n",
            "Building wheels for collected packages: fasttext\n",
            "  Building wheel for fasttext (setup.py) ... \u001b[?25l\u001b[?25hdone\n",
            "  Created wheel for fasttext: filename=fasttext-0.9.2-cp36-cp36m-linux_x86_64.whl size=3082295 sha256=ef5643036c07b73765bdb201ae40f7d0c806d42072a275d92168f521eb7fd336\n",
            "  Stored in directory: /tmp/pip-ephem-wheel-cache-e7lzcd_w/wheels/a1/9f/52/696ce6c5c46325e840c76614ee5051458c0df10306987e7443\n",
            "Successfully built fasttext\n",
            "Installing collected packages: fasttext\n",
            "Successfully installed fasttext-0.9.2\n"
          ],
          "name": "stdout"
        }
      ]
    },
    {
      "cell_type": "code",
      "metadata": {
        "id": "fG5L1DIu4DM8"
      },
      "source": [
        "import fasttext as ft\r\n",
        "import pandas as pd\r\n",
        "from sklearn import model_selection\r\n",
        "import csv\r\n",
        "pd.set_option('display.max_columns', None)\r\n",
        "pd.set_option('display.max_rows', None)"
      ],
      "execution_count": null,
      "outputs": []
    },
    {
      "cell_type": "code",
      "metadata": {
        "colab": {
          "base_uri": "https://localhost:8080/"
        },
        "id": "6MZMWjIt5gTl",
        "outputId": "800f6c77-7884-4f93-c85c-699adbff891a"
      },
      "source": [
        "from google.colab import drive\n",
        "drive.mount('/content/drive')"
      ],
      "execution_count": null,
      "outputs": [
        {
          "output_type": "stream",
          "text": [
            "Mounted at /content/drive\n"
          ],
          "name": "stdout"
        }
      ]
    },
    {
      "cell_type": "code",
      "metadata": {
        "id": "xWAVBgSvZMJu"
      },
      "source": [
        "#create work dir\r\n",
        "WORK_PATH = '/content/data/wiki_experiments/'\r\n",
        "%mkdir -p '/content/data/wiki_experiments/'"
      ],
      "execution_count": null,
      "outputs": []
    },
    {
      "cell_type": "code",
      "metadata": {
        "id": "5O2ia0Dk-njO"
      },
      "source": [
        "# PATH DEFINITION FOR CORPORA\r\n",
        "CORPORA_RAW = '/content/drive/MyDrive/master_datasets/wiki_preprocessed/wikiInOneFileDataset.txt'\r\n",
        "CORPORA_LEMMATIZED = '/content/drive/MyDrive/master_datasets/wiki_preprocessed/wikiInOneFileDataset_lemmas.txt'\r\n",
        "TEST_FASTTEXT_FILE_PATH = WORK_PATH + 'TEST_FASTEXT_WORK.csv'\r\n",
        "TRAIN_FASTTEXT_FILE_PATH = WORK_PATH + 'TRAIN_FASTEXT_WORK.csv'\r\n",
        "\r\n",
        "repetitions = 2\r\n",
        "no_samples_per_class = [1, 3, 5, 8, 10, 20, 30, 60, 100, 200] ###### FINALL SAMPLES LIST  \r\n"
      ],
      "execution_count": null,
      "outputs": []
    },
    {
      "cell_type": "code",
      "metadata": {
        "id": "MsiKx1tP-Y-v"
      },
      "source": [
        "def load_corpora_to_dataframe(corpora):\r\n",
        "  data = open(corpora).read()\r\n",
        "  labels, texts = [], []\r\n",
        "  for i, line in enumerate(data.split(\"\\n\")):\r\n",
        "      content = line.split()\r\n",
        "      labels.append(content[0])\r\n",
        "      texts.append(\" \".join(content[1:]))\r\n",
        "\r\n",
        "  # create a dataframe using texts and lables\r\n",
        "  trainDF = pd.DataFrame()\r\n",
        "  trainDF['label'] = labels\r\n",
        "  trainDF['text'] = texts\r\n",
        "  return trainDF"
      ],
      "execution_count": null,
      "outputs": []
    },
    {
      "cell_type": "code",
      "metadata": {
        "id": "ln-wr0oJWCV_"
      },
      "source": [
        "def process_benchmark(train, test, wordNgrams):\n",
        "  # save text file which will be used for all tests\n",
        "  test.to_csv(TEST_FASTTEXT_FILE_PATH, header=False, index=False, encoding='utf-8', sep='\\t', quoting=csv.QUOTE_NONE)\n",
        "\n",
        "\n",
        "\n",
        "  full = []\n",
        "  for repeat in range(repetitions):\n",
        "      iteration = []\n",
        "      for n_samples in no_samples_per_class:\n",
        "          train_work = train.groupby(['label']).sample(n=n_samples, replace=True)\n",
        "          train_work = train_work.sample(frac=1)\n",
        "          train_work.to_csv(TRAIN_FASTTEXT_FILE_PATH, header=False, index=False, encoding='utf-8', sep='\\t', quoting=csv.QUOTE_NONE)\n",
        "          model = ft.train_supervised(input=TRAIN_FASTTEXT_FILE_PATH, dim=300, lr=1.0, epoch=25, pretrainedVectors='/content/drive/MyDrive/models/cc.pl.300.vec', wordNgrams=wordNgrams)\n",
        "          result = model.test(TEST_FASTTEXT_FILE_PATH)\n",
        "          print(\"repeat: \", repeat,\" sample: \", n_samples,' wordNgrams: ', wordNgrams, ' results: ', result)\n",
        "          iteration.append(result[1])\n",
        "      print(iteration)\n",
        "      full.append(iteration)\n",
        "  return full\n"
      ],
      "execution_count": null,
      "outputs": []
    },
    {
      "cell_type": "code",
      "metadata": {
        "colab": {
          "background_save": true,
          "base_uri": "https://localhost:8080/"
        },
        "id": "e49jSUyQ-bQt",
        "outputId": "f8fd3a7b-35f4-469d-c7e3-50d42ca81391"
      },
      "source": [
        "# RAW monograms\n",
        "trainDF = load_corpora_to_dataframe(CORPORA_RAW)\n",
        "train, test = model_selection.train_test_split(trainDF, test_size=0.2, random_state=42)\n",
        "\n",
        "results = process_benchmark(train, test, 1)"
      ],
      "execution_count": null,
      "outputs": [
        {
          "output_type": "stream",
          "text": [
            "repeat:  0  sample:  1  wordNgrams:  1  results:  (1377, 0.12345679012345678, 0.12345679012345678)\n",
            "repeat:  0  sample:  3  wordNgrams:  1  results:  (1377, 0.3137254901960784, 0.3137254901960784)\n",
            "repeat:  0  sample:  5  wordNgrams:  1  results:  (1377, 0.3805374001452433, 0.3805374001452433)\n",
            "repeat:  0  sample:  8  wordNgrams:  1  results:  (1377, 0.4596949891067538, 0.4596949891067538)\n",
            "repeat:  0  sample:  10  wordNgrams:  1  results:  (1377, 0.5519244734931009, 0.5519244734931009)\n",
            "repeat:  0  sample:  20  wordNgrams:  1  results:  (1377, 0.6289034132171387, 0.6289034132171387)\n",
            "repeat:  0  sample:  30  wordNgrams:  1  results:  (1377, 0.6949891067538126, 0.6949891067538126)\n",
            "repeat:  0  sample:  60  wordNgrams:  1  results:  (1377, 0.7639796659404503, 0.7639796659404503)\n",
            "repeat:  0  sample:  100  wordNgrams:  1  results:  (1377, 0.7981118373275236, 0.7981118373275236)\n",
            "repeat:  0  sample:  200  wordNgrams:  1  results:  (1377, 0.8148148148148148, 0.8148148148148148)\n",
            "[0.12345679012345678, 0.3137254901960784, 0.3805374001452433, 0.4596949891067538, 0.5519244734931009, 0.6289034132171387, 0.6949891067538126, 0.7639796659404503, 0.7981118373275236, 0.8148148148148148]\n",
            "repeat:  1  sample:  1  wordNgrams:  1  results:  (1377, 0.1009440813362382, 0.1009440813362382)\n",
            "repeat:  1  sample:  3  wordNgrams:  1  results:  (1377, 0.3028322440087146, 0.3028322440087146)\n",
            "repeat:  1  sample:  5  wordNgrams:  1  results:  (1377, 0.3863471314451707, 0.3863471314451707)\n",
            "repeat:  1  sample:  8  wordNgrams:  1  results:  (1377, 0.4880174291938998, 0.4880174291938998)\n",
            "repeat:  1  sample:  10  wordNgrams:  1  results:  (1377, 0.5199709513435004, 0.5199709513435004)\n",
            "repeat:  1  sample:  20  wordNgrams:  1  results:  (1377, 0.6318082788671024, 0.6318082788671024)\n",
            "repeat:  1  sample:  30  wordNgrams:  1  results:  (1377, 0.6724763979665941, 0.6724763979665941)\n",
            "repeat:  1  sample:  60  wordNgrams:  1  results:  (1377, 0.7588961510530138, 0.7588961510530138)\n",
            "repeat:  1  sample:  100  wordNgrams:  1  results:  (1377, 0.7915758896151053, 0.7915758896151053)\n",
            "repeat:  1  sample:  200  wordNgrams:  1  results:  (1377, 0.8228031953522149, 0.8228031953522149)\n",
            "[0.1009440813362382, 0.3028322440087146, 0.3863471314451707, 0.4880174291938998, 0.5199709513435004, 0.6318082788671024, 0.6724763979665941, 0.7588961510530138, 0.7915758896151053, 0.8228031953522149]\n"
          ],
          "name": "stdout"
        }
      ]
    },
    {
      "cell_type": "code",
      "metadata": {
        "colab": {
          "background_save": true
        },
        "id": "iEDDNbnr0CaU",
        "outputId": "bdbb229d-675a-42cc-d6f0-b7200f87c96d"
      },
      "source": [
        "no_samples_per_class"
      ],
      "execution_count": null,
      "outputs": [
        {
          "output_type": "execute_result",
          "data": {
            "text/plain": [
              "[1, 3, 5, 8, 10, 20, 30, 60, 100, 200]"
            ]
          },
          "metadata": {
            "tags": []
          },
          "execution_count": 0
        }
      ]
    },
    {
      "cell_type": "code",
      "metadata": {
        "colab": {
          "background_save": true
        },
        "id": "9AoLLPvWStuc",
        "outputId": "3d232d6b-5d0f-426b-a10f-11b55ca3df5d"
      },
      "source": [
        "\n",
        "df = pd.DataFrame(results, columns=no_samples_per_class)\n",
        "df"
      ],
      "execution_count": null,
      "outputs": [
        {
          "output_type": "execute_result",
          "data": {
            "text/html": [
              "<div>\n",
              "<style scoped>\n",
              "    .dataframe tbody tr th:only-of-type {\n",
              "        vertical-align: middle;\n",
              "    }\n",
              "\n",
              "    .dataframe tbody tr th {\n",
              "        vertical-align: top;\n",
              "    }\n",
              "\n",
              "    .dataframe thead th {\n",
              "        text-align: right;\n",
              "    }\n",
              "</style>\n",
              "<table border=\"1\" class=\"dataframe\">\n",
              "  <thead>\n",
              "    <tr style=\"text-align: right;\">\n",
              "      <th></th>\n",
              "      <th>1</th>\n",
              "      <th>3</th>\n",
              "      <th>5</th>\n",
              "      <th>8</th>\n",
              "      <th>10</th>\n",
              "      <th>20</th>\n",
              "      <th>30</th>\n",
              "      <th>60</th>\n",
              "      <th>100</th>\n",
              "      <th>200</th>\n",
              "    </tr>\n",
              "  </thead>\n",
              "  <tbody>\n",
              "    <tr>\n",
              "      <th>0</th>\n",
              "      <td>0.123457</td>\n",
              "      <td>0.313725</td>\n",
              "      <td>0.380537</td>\n",
              "      <td>0.459695</td>\n",
              "      <td>0.551924</td>\n",
              "      <td>0.628903</td>\n",
              "      <td>0.694989</td>\n",
              "      <td>0.763980</td>\n",
              "      <td>0.798112</td>\n",
              "      <td>0.814815</td>\n",
              "    </tr>\n",
              "    <tr>\n",
              "      <th>1</th>\n",
              "      <td>0.100944</td>\n",
              "      <td>0.302832</td>\n",
              "      <td>0.386347</td>\n",
              "      <td>0.488017</td>\n",
              "      <td>0.519971</td>\n",
              "      <td>0.631808</td>\n",
              "      <td>0.672476</td>\n",
              "      <td>0.758896</td>\n",
              "      <td>0.791576</td>\n",
              "      <td>0.822803</td>\n",
              "    </tr>\n",
              "  </tbody>\n",
              "</table>\n",
              "</div>"
            ],
            "text/plain": [
              "        1         3         5         8         10        20        30   \\\n",
              "0  0.123457  0.313725  0.380537  0.459695  0.551924  0.628903  0.694989   \n",
              "1  0.100944  0.302832  0.386347  0.488017  0.519971  0.631808  0.672476   \n",
              "\n",
              "        60        100       200  \n",
              "0  0.763980  0.798112  0.814815  \n",
              "1  0.758896  0.791576  0.822803  "
            ]
          },
          "metadata": {
            "tags": []
          },
          "execution_count": 0
        }
      ]
    },
    {
      "cell_type": "code",
      "metadata": {
        "colab": {
          "background_save": true
        },
        "id": "-PUXAobzStuc",
        "scrolled": true,
        "outputId": "8b15151f-16bd-4abc-91a3-86122193c055"
      },
      "source": [
        "df.describe()"
      ],
      "execution_count": null,
      "outputs": [
        {
          "output_type": "execute_result",
          "data": {
            "text/html": [
              "<div>\n",
              "<style scoped>\n",
              "    .dataframe tbody tr th:only-of-type {\n",
              "        vertical-align: middle;\n",
              "    }\n",
              "\n",
              "    .dataframe tbody tr th {\n",
              "        vertical-align: top;\n",
              "    }\n",
              "\n",
              "    .dataframe thead th {\n",
              "        text-align: right;\n",
              "    }\n",
              "</style>\n",
              "<table border=\"1\" class=\"dataframe\">\n",
              "  <thead>\n",
              "    <tr style=\"text-align: right;\">\n",
              "      <th></th>\n",
              "      <th>1</th>\n",
              "      <th>3</th>\n",
              "      <th>5</th>\n",
              "      <th>8</th>\n",
              "      <th>10</th>\n",
              "      <th>20</th>\n",
              "      <th>30</th>\n",
              "      <th>60</th>\n",
              "      <th>100</th>\n",
              "      <th>200</th>\n",
              "    </tr>\n",
              "  </thead>\n",
              "  <tbody>\n",
              "    <tr>\n",
              "      <th>count</th>\n",
              "      <td>2.000000</td>\n",
              "      <td>2.000000</td>\n",
              "      <td>2.000000</td>\n",
              "      <td>2.000000</td>\n",
              "      <td>2.000000</td>\n",
              "      <td>2.000000</td>\n",
              "      <td>2.000000</td>\n",
              "      <td>2.000000</td>\n",
              "      <td>2.000000</td>\n",
              "      <td>2.000000</td>\n",
              "    </tr>\n",
              "    <tr>\n",
              "      <th>mean</th>\n",
              "      <td>0.112200</td>\n",
              "      <td>0.308279</td>\n",
              "      <td>0.383442</td>\n",
              "      <td>0.473856</td>\n",
              "      <td>0.535948</td>\n",
              "      <td>0.630356</td>\n",
              "      <td>0.683733</td>\n",
              "      <td>0.761438</td>\n",
              "      <td>0.794844</td>\n",
              "      <td>0.818809</td>\n",
              "    </tr>\n",
              "    <tr>\n",
              "      <th>std</th>\n",
              "      <td>0.015919</td>\n",
              "      <td>0.007703</td>\n",
              "      <td>0.004108</td>\n",
              "      <td>0.020027</td>\n",
              "      <td>0.022595</td>\n",
              "      <td>0.002054</td>\n",
              "      <td>0.015919</td>\n",
              "      <td>0.003595</td>\n",
              "      <td>0.004622</td>\n",
              "      <td>0.005649</td>\n",
              "    </tr>\n",
              "    <tr>\n",
              "      <th>min</th>\n",
              "      <td>0.100944</td>\n",
              "      <td>0.302832</td>\n",
              "      <td>0.380537</td>\n",
              "      <td>0.459695</td>\n",
              "      <td>0.519971</td>\n",
              "      <td>0.628903</td>\n",
              "      <td>0.672476</td>\n",
              "      <td>0.758896</td>\n",
              "      <td>0.791576</td>\n",
              "      <td>0.814815</td>\n",
              "    </tr>\n",
              "    <tr>\n",
              "      <th>25%</th>\n",
              "      <td>0.106572</td>\n",
              "      <td>0.305556</td>\n",
              "      <td>0.381990</td>\n",
              "      <td>0.466776</td>\n",
              "      <td>0.527959</td>\n",
              "      <td>0.629630</td>\n",
              "      <td>0.678105</td>\n",
              "      <td>0.760167</td>\n",
              "      <td>0.793210</td>\n",
              "      <td>0.816812</td>\n",
              "    </tr>\n",
              "    <tr>\n",
              "      <th>50%</th>\n",
              "      <td>0.112200</td>\n",
              "      <td>0.308279</td>\n",
              "      <td>0.383442</td>\n",
              "      <td>0.473856</td>\n",
              "      <td>0.535948</td>\n",
              "      <td>0.630356</td>\n",
              "      <td>0.683733</td>\n",
              "      <td>0.761438</td>\n",
              "      <td>0.794844</td>\n",
              "      <td>0.818809</td>\n",
              "    </tr>\n",
              "    <tr>\n",
              "      <th>75%</th>\n",
              "      <td>0.117829</td>\n",
              "      <td>0.311002</td>\n",
              "      <td>0.384895</td>\n",
              "      <td>0.480937</td>\n",
              "      <td>0.543936</td>\n",
              "      <td>0.631082</td>\n",
              "      <td>0.689361</td>\n",
              "      <td>0.762709</td>\n",
              "      <td>0.796478</td>\n",
              "      <td>0.820806</td>\n",
              "    </tr>\n",
              "    <tr>\n",
              "      <th>max</th>\n",
              "      <td>0.123457</td>\n",
              "      <td>0.313725</td>\n",
              "      <td>0.386347</td>\n",
              "      <td>0.488017</td>\n",
              "      <td>0.551924</td>\n",
              "      <td>0.631808</td>\n",
              "      <td>0.694989</td>\n",
              "      <td>0.763980</td>\n",
              "      <td>0.798112</td>\n",
              "      <td>0.822803</td>\n",
              "    </tr>\n",
              "  </tbody>\n",
              "</table>\n",
              "</div>"
            ],
            "text/plain": [
              "            1         3         5         8         10        20        30   \\\n",
              "count  2.000000  2.000000  2.000000  2.000000  2.000000  2.000000  2.000000   \n",
              "mean   0.112200  0.308279  0.383442  0.473856  0.535948  0.630356  0.683733   \n",
              "std    0.015919  0.007703  0.004108  0.020027  0.022595  0.002054  0.015919   \n",
              "min    0.100944  0.302832  0.380537  0.459695  0.519971  0.628903  0.672476   \n",
              "25%    0.106572  0.305556  0.381990  0.466776  0.527959  0.629630  0.678105   \n",
              "50%    0.112200  0.308279  0.383442  0.473856  0.535948  0.630356  0.683733   \n",
              "75%    0.117829  0.311002  0.384895  0.480937  0.543936  0.631082  0.689361   \n",
              "max    0.123457  0.313725  0.386347  0.488017  0.551924  0.631808  0.694989   \n",
              "\n",
              "            60        100       200  \n",
              "count  2.000000  2.000000  2.000000  \n",
              "mean   0.761438  0.794844  0.818809  \n",
              "std    0.003595  0.004622  0.005649  \n",
              "min    0.758896  0.791576  0.814815  \n",
              "25%    0.760167  0.793210  0.816812  \n",
              "50%    0.761438  0.794844  0.818809  \n",
              "75%    0.762709  0.796478  0.820806  \n",
              "max    0.763980  0.798112  0.822803  "
            ]
          },
          "metadata": {
            "tags": []
          },
          "execution_count": 0
        }
      ]
    },
    {
      "cell_type": "code",
      "metadata": {
        "colab": {
          "background_save": true
        },
        "id": "7SnIaS6uCzLO"
      },
      "source": [
        "# RAW 1-2grams\n",
        "# trainDF = load_corpora_to_dataframe(CORPORA_RAW)\n",
        "# train, test = model_selection.train_test_split(trainDF, test_size=0.2, random_state=42)\n",
        "\n",
        "# results = process_benchmark(train, test, 2)"
      ],
      "execution_count": null,
      "outputs": []
    },
    {
      "cell_type": "code",
      "metadata": {
        "colab": {
          "background_save": true
        },
        "id": "k9SxNsQ6CzLR"
      },
      "source": [
        "# df = pd.DataFrame(results, columns=no_samples_per_class)\n",
        "# df"
      ],
      "execution_count": null,
      "outputs": []
    },
    {
      "cell_type": "code",
      "metadata": {
        "colab": {
          "background_save": true
        },
        "id": "wKJlZMWDCzLS",
        "scrolled": true
      },
      "source": [
        "# df.describe()"
      ],
      "execution_count": null,
      "outputs": []
    },
    {
      "cell_type": "code",
      "metadata": {
        "id": "bbFvYQ04DCtf",
        "colab": {
          "base_uri": "https://localhost:8080/"
        },
        "outputId": "296ab673-789e-4fe3-f051-1d4a5ec90117"
      },
      "source": [
        "# Lemmas monograms\n",
        "trainDF = load_corpora_to_dataframe(CORPORA_LEMMATIZED)\n",
        "train, test = model_selection.train_test_split(trainDF, test_size=0.2, random_state=42)\n",
        "\n",
        "results = process_benchmark(train, test, 1)"
      ],
      "execution_count": null,
      "outputs": [
        {
          "output_type": "stream",
          "text": [
            "repeat:  0  sample:  1  wordNgrams:  1  results:  (1377, 0.2403776325344953, 0.2403776325344953)\n",
            "repeat:  0  sample:  3  wordNgrams:  1  results:  (1377, 0.3609295570079884, 0.3609295570079884)\n",
            "repeat:  0  sample:  5  wordNgrams:  1  results:  (1377, 0.46042120551924476, 0.46042120551924476)\n",
            "repeat:  0  sample:  8  wordNgrams:  1  results:  (1377, 0.5969498910675382, 0.5969498910675382)\n",
            "repeat:  0  sample:  10  wordNgrams:  1  results:  (1377, 0.6368917937545389, 0.6368917937545389)\n",
            "repeat:  0  sample:  20  wordNgrams:  1  results:  (1377, 0.756717501815541, 0.756717501815541)\n",
            "repeat:  0  sample:  30  wordNgrams:  1  results:  (1377, 0.766158315177923, 0.766158315177923)\n",
            "repeat:  0  sample:  60  wordNgrams:  1  results:  (1377, 0.8351488743645606, 0.8351488743645606)\n",
            "repeat:  0  sample:  100  wordNgrams:  1  results:  (1377, 0.8489469862018881, 0.8489469862018881)\n",
            "repeat:  0  sample:  200  wordNgrams:  1  results:  (1377, 0.8678286129266521, 0.8678286129266521)\n",
            "[0.2403776325344953, 0.3609295570079884, 0.46042120551924476, 0.5969498910675382, 0.6368917937545389, 0.756717501815541, 0.766158315177923, 0.8351488743645606, 0.8489469862018881, 0.8678286129266521]\n",
            "repeat:  1  sample:  1  wordNgrams:  1  results:  (1377, 0.19389978213507625, 0.19389978213507625)\n",
            "repeat:  1  sample:  3  wordNgrams:  1  results:  (1377, 0.38198983297022515, 0.38198983297022515)\n",
            "repeat:  1  sample:  5  wordNgrams:  1  results:  (1377, 0.49963689179375453, 0.49963689179375453)\n",
            "repeat:  1  sample:  8  wordNgrams:  1  results:  (1377, 0.5671750181554103, 0.5671750181554103)\n",
            "repeat:  1  sample:  10  wordNgrams:  1  results:  (1377, 0.5976761074800291, 0.5976761074800291)\n",
            "repeat:  1  sample:  20  wordNgrams:  1  results:  (1377, 0.7283950617283951, 0.7283950617283951)\n",
            "repeat:  1  sample:  30  wordNgrams:  1  results:  (1377, 0.7835875090777051, 0.7835875090777051)\n",
            "repeat:  1  sample:  60  wordNgrams:  1  results:  (1377, 0.8169934640522876, 0.8169934640522876)\n",
            "repeat:  1  sample:  100  wordNgrams:  1  results:  (1377, 0.8474945533769063, 0.8474945533769063)\n",
            "repeat:  1  sample:  200  wordNgrams:  1  results:  (1377, 0.8714596949891068, 0.8714596949891068)\n",
            "[0.19389978213507625, 0.38198983297022515, 0.49963689179375453, 0.5671750181554103, 0.5976761074800291, 0.7283950617283951, 0.7835875090777051, 0.8169934640522876, 0.8474945533769063, 0.8714596949891068]\n"
          ],
          "name": "stdout"
        }
      ]
    },
    {
      "cell_type": "code",
      "metadata": {
        "id": "DL_CCcYIDCtg",
        "colab": {
          "base_uri": "https://localhost:8080/"
        },
        "outputId": "387bd19a-f23a-463b-c290-281073e5f501"
      },
      "source": [
        "df = pd.DataFrame(results, columns=no_samples_per_class)\n",
        "df"
      ],
      "execution_count": null,
      "outputs": [
        {
          "output_type": "execute_result",
          "data": {
            "text/html": [
              "<div>\n",
              "<style scoped>\n",
              "    .dataframe tbody tr th:only-of-type {\n",
              "        vertical-align: middle;\n",
              "    }\n",
              "\n",
              "    .dataframe tbody tr th {\n",
              "        vertical-align: top;\n",
              "    }\n",
              "\n",
              "    .dataframe thead th {\n",
              "        text-align: right;\n",
              "    }\n",
              "</style>\n",
              "<table border=\"1\" class=\"dataframe\">\n",
              "  <thead>\n",
              "    <tr style=\"text-align: right;\">\n",
              "      <th></th>\n",
              "      <th>1</th>\n",
              "      <th>3</th>\n",
              "      <th>5</th>\n",
              "      <th>8</th>\n",
              "      <th>10</th>\n",
              "      <th>20</th>\n",
              "      <th>30</th>\n",
              "      <th>60</th>\n",
              "      <th>100</th>\n",
              "      <th>200</th>\n",
              "    </tr>\n",
              "  </thead>\n",
              "  <tbody>\n",
              "    <tr>\n",
              "      <th>0</th>\n",
              "      <td>0.240378</td>\n",
              "      <td>0.36093</td>\n",
              "      <td>0.460421</td>\n",
              "      <td>0.596950</td>\n",
              "      <td>0.636892</td>\n",
              "      <td>0.756718</td>\n",
              "      <td>0.766158</td>\n",
              "      <td>0.835149</td>\n",
              "      <td>0.848947</td>\n",
              "      <td>0.867829</td>\n",
              "    </tr>\n",
              "    <tr>\n",
              "      <th>1</th>\n",
              "      <td>0.193900</td>\n",
              "      <td>0.38199</td>\n",
              "      <td>0.499637</td>\n",
              "      <td>0.567175</td>\n",
              "      <td>0.597676</td>\n",
              "      <td>0.728395</td>\n",
              "      <td>0.783588</td>\n",
              "      <td>0.816993</td>\n",
              "      <td>0.847495</td>\n",
              "      <td>0.871460</td>\n",
              "    </tr>\n",
              "  </tbody>\n",
              "</table>\n",
              "</div>"
            ],
            "text/plain": [
              "        1        3         5         8         10        20        30   \\\n",
              "0  0.240378  0.36093  0.460421  0.596950  0.636892  0.756718  0.766158   \n",
              "1  0.193900  0.38199  0.499637  0.567175  0.597676  0.728395  0.783588   \n",
              "\n",
              "        60        100       200  \n",
              "0  0.835149  0.848947  0.867829  \n",
              "1  0.816993  0.847495  0.871460  "
            ]
          },
          "metadata": {
            "tags": []
          },
          "execution_count": 17
        }
      ]
    },
    {
      "cell_type": "code",
      "metadata": {
        "id": "ksVyn2ycDCtg",
        "scrolled": true,
        "colab": {
          "base_uri": "https://localhost:8080/",
          "height": 297
        },
        "outputId": "f4184fd8-6a01-4746-c129-2255c007d22d"
      },
      "source": [
        "df.describe()"
      ],
      "execution_count": null,
      "outputs": [
        {
          "output_type": "execute_result",
          "data": {
            "text/html": [
              "<div>\n",
              "<style scoped>\n",
              "    .dataframe tbody tr th:only-of-type {\n",
              "        vertical-align: middle;\n",
              "    }\n",
              "\n",
              "    .dataframe tbody tr th {\n",
              "        vertical-align: top;\n",
              "    }\n",
              "\n",
              "    .dataframe thead th {\n",
              "        text-align: right;\n",
              "    }\n",
              "</style>\n",
              "<table border=\"1\" class=\"dataframe\">\n",
              "  <thead>\n",
              "    <tr style=\"text-align: right;\">\n",
              "      <th></th>\n",
              "      <th>1</th>\n",
              "      <th>3</th>\n",
              "      <th>5</th>\n",
              "      <th>8</th>\n",
              "      <th>10</th>\n",
              "      <th>20</th>\n",
              "      <th>30</th>\n",
              "      <th>60</th>\n",
              "      <th>100</th>\n",
              "      <th>200</th>\n",
              "    </tr>\n",
              "  </thead>\n",
              "  <tbody>\n",
              "    <tr>\n",
              "      <th>count</th>\n",
              "      <td>2.000000</td>\n",
              "      <td>2.000000</td>\n",
              "      <td>2.000000</td>\n",
              "      <td>2.000000</td>\n",
              "      <td>2.000000</td>\n",
              "      <td>2.000000</td>\n",
              "      <td>2.000000</td>\n",
              "      <td>2.000000</td>\n",
              "      <td>2.000000</td>\n",
              "      <td>2.000000</td>\n",
              "    </tr>\n",
              "    <tr>\n",
              "      <th>mean</th>\n",
              "      <td>0.217139</td>\n",
              "      <td>0.371460</td>\n",
              "      <td>0.480029</td>\n",
              "      <td>0.582062</td>\n",
              "      <td>0.617284</td>\n",
              "      <td>0.742556</td>\n",
              "      <td>0.774873</td>\n",
              "      <td>0.826071</td>\n",
              "      <td>0.848221</td>\n",
              "      <td>0.869644</td>\n",
              "    </tr>\n",
              "    <tr>\n",
              "      <th>std</th>\n",
              "      <td>0.032865</td>\n",
              "      <td>0.014892</td>\n",
              "      <td>0.027730</td>\n",
              "      <td>0.021054</td>\n",
              "      <td>0.027730</td>\n",
              "      <td>0.020027</td>\n",
              "      <td>0.012324</td>\n",
              "      <td>0.012838</td>\n",
              "      <td>0.001027</td>\n",
              "      <td>0.002568</td>\n",
              "    </tr>\n",
              "    <tr>\n",
              "      <th>min</th>\n",
              "      <td>0.193900</td>\n",
              "      <td>0.360930</td>\n",
              "      <td>0.460421</td>\n",
              "      <td>0.567175</td>\n",
              "      <td>0.597676</td>\n",
              "      <td>0.728395</td>\n",
              "      <td>0.766158</td>\n",
              "      <td>0.816993</td>\n",
              "      <td>0.847495</td>\n",
              "      <td>0.867829</td>\n",
              "    </tr>\n",
              "    <tr>\n",
              "      <th>25%</th>\n",
              "      <td>0.205519</td>\n",
              "      <td>0.366195</td>\n",
              "      <td>0.470225</td>\n",
              "      <td>0.574619</td>\n",
              "      <td>0.607480</td>\n",
              "      <td>0.735476</td>\n",
              "      <td>0.770516</td>\n",
              "      <td>0.821532</td>\n",
              "      <td>0.847858</td>\n",
              "      <td>0.868736</td>\n",
              "    </tr>\n",
              "    <tr>\n",
              "      <th>50%</th>\n",
              "      <td>0.217139</td>\n",
              "      <td>0.371460</td>\n",
              "      <td>0.480029</td>\n",
              "      <td>0.582062</td>\n",
              "      <td>0.617284</td>\n",
              "      <td>0.742556</td>\n",
              "      <td>0.774873</td>\n",
              "      <td>0.826071</td>\n",
              "      <td>0.848221</td>\n",
              "      <td>0.869644</td>\n",
              "    </tr>\n",
              "    <tr>\n",
              "      <th>75%</th>\n",
              "      <td>0.228758</td>\n",
              "      <td>0.376725</td>\n",
              "      <td>0.489833</td>\n",
              "      <td>0.589506</td>\n",
              "      <td>0.627088</td>\n",
              "      <td>0.749637</td>\n",
              "      <td>0.779230</td>\n",
              "      <td>0.830610</td>\n",
              "      <td>0.848584</td>\n",
              "      <td>0.870552</td>\n",
              "    </tr>\n",
              "    <tr>\n",
              "      <th>max</th>\n",
              "      <td>0.240378</td>\n",
              "      <td>0.381990</td>\n",
              "      <td>0.499637</td>\n",
              "      <td>0.596950</td>\n",
              "      <td>0.636892</td>\n",
              "      <td>0.756718</td>\n",
              "      <td>0.783588</td>\n",
              "      <td>0.835149</td>\n",
              "      <td>0.848947</td>\n",
              "      <td>0.871460</td>\n",
              "    </tr>\n",
              "  </tbody>\n",
              "</table>\n",
              "</div>"
            ],
            "text/plain": [
              "            1         3         5         8         10        20        30   \\\n",
              "count  2.000000  2.000000  2.000000  2.000000  2.000000  2.000000  2.000000   \n",
              "mean   0.217139  0.371460  0.480029  0.582062  0.617284  0.742556  0.774873   \n",
              "std    0.032865  0.014892  0.027730  0.021054  0.027730  0.020027  0.012324   \n",
              "min    0.193900  0.360930  0.460421  0.567175  0.597676  0.728395  0.766158   \n",
              "25%    0.205519  0.366195  0.470225  0.574619  0.607480  0.735476  0.770516   \n",
              "50%    0.217139  0.371460  0.480029  0.582062  0.617284  0.742556  0.774873   \n",
              "75%    0.228758  0.376725  0.489833  0.589506  0.627088  0.749637  0.779230   \n",
              "max    0.240378  0.381990  0.499637  0.596950  0.636892  0.756718  0.783588   \n",
              "\n",
              "            60        100       200  \n",
              "count  2.000000  2.000000  2.000000  \n",
              "mean   0.826071  0.848221  0.869644  \n",
              "std    0.012838  0.001027  0.002568  \n",
              "min    0.816993  0.847495  0.867829  \n",
              "25%    0.821532  0.847858  0.868736  \n",
              "50%    0.826071  0.848221  0.869644  \n",
              "75%    0.830610  0.848584  0.870552  \n",
              "max    0.835149  0.848947  0.871460  "
            ]
          },
          "metadata": {
            "tags": []
          },
          "execution_count": 18
        }
      ]
    },
    {
      "cell_type": "code",
      "metadata": {
        "id": "eIiwmYa9DgaH"
      },
      "source": [
        "# Lemmas 1-2grams\n",
        "# trainDF = load_corpora_to_dataframe(CORPORA_LEMMATIZED)\n",
        "# train, test = model_selection.train_test_split(trainDF, test_size=0.2, random_state=42)\n",
        "\n",
        "# results = process_benchmark(train, test, 2)"
      ],
      "execution_count": null,
      "outputs": []
    },
    {
      "cell_type": "code",
      "metadata": {
        "id": "0vbDhkOBDgaK"
      },
      "source": [
        "# df = pd.DataFrame(results, columns=no_samples_per_class)\n",
        "# df"
      ],
      "execution_count": null,
      "outputs": []
    },
    {
      "cell_type": "code",
      "metadata": {
        "id": "YeFYJxrXDgaL",
        "scrolled": true
      },
      "source": [
        "# df.describe()"
      ],
      "execution_count": null,
      "outputs": []
    },
    {
      "cell_type": "code",
      "metadata": {
        "id": "b7tPLhlUStud"
      },
      "source": [
        "\n",
        "\n",
        "\n",
        "# import matplotlib.pyplot as plt\n",
        "# plt.figure(figsize=(8, 6))\n",
        "# df.boxplot()\n",
        "# model.get_dimension()\n",
        "\n",
        "\n",
        "\n",
        "# model.get_nearest_neighbors('rok')\n",
        "# model.get_word_vector( \"rok\")\n"
      ],
      "execution_count": null,
      "outputs": []
    }
  ]
}